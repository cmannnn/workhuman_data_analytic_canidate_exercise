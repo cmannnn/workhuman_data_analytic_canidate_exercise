{
  "nbformat": 4,
  "nbformat_minor": 0,
  "metadata": {
    "colab": {
      "name": "workhuman_data_analytic_canidate_exercise.ipynb",
      "provenance": [],
      "collapsed_sections": [
        "cdOlBytk4nzx"
      ],
      "authorship_tag": "ABX9TyMvMpejg1qI/wMfIPYRVKIW",
      "include_colab_link": true
    },
    "kernelspec": {
      "name": "python3",
      "display_name": "Python 3"
    },
    "language_info": {
      "name": "python"
    },
    "accelerator": "GPU"
  },
  "cells": [
    {
      "cell_type": "markdown",
      "metadata": {
        "id": "view-in-github",
        "colab_type": "text"
      },
      "source": [
        "<a href=\"https://colab.research.google.com/github/cmannnn/workhuman_data_analytic_canidate_exercise/blob/main/workhuman_data_analytic_canidate_exercise.ipynb\" target=\"_parent\"><img src=\"https://colab.research.google.com/assets/colab-badge.svg\" alt=\"Open In Colab\"/></a>"
      ]
    },
    {
      "cell_type": "markdown",
      "source": [
        "\n",
        "# **Key Fields**\n",
        "\n",
        "*   visitId – this is the unique random identifier assigned by Google to each visit\n",
        "*   fullVisitorId – this is the unique random identifier assigned by Google to each distinct user\n",
        "*   hits.type – denotes the category of the hit (pageview, event, transaction, etc)\n",
        "*   hits.page.pagePath – the URL pathname of the page where the hit occurred\n",
        "hits.eventInfo. (columns AQ-AS) – this is the custom taxonomy for non-pageload interactions\n",
        "*   trafficsource. (columns J-N) – these are UTM attributes about the referrer of the visit\n",
        "*   device. (columns O-R) – these are technology attributes about the user\n",
        "geoNetwork. (columns S-V) – these are location attributes about the user\n",
        "\n",
        "\n",
        "\n",
        "\n",
        "\n"
      ],
      "metadata": {
        "id": "hylXj-ZlOKlV"
      }
    },
    {
      "cell_type": "markdown",
      "source": [
        "\n",
        "# **Business KPIs**\n",
        "\n",
        "\n",
        "*   Prospect conversion rate – the percent of first-time visitors with a transaction, excluding any returning customers\n",
        "*   Channel revenue contribution – how much revenue is attributed to each acquisition channel\n",
        "*   Gross margin – the percent of all e-commerce revenue – cost of goods sold out of total revenue\n",
        "\n",
        "\n",
        "\n",
        "\n",
        "\n"
      ],
      "metadata": {
        "id": "ZwBAmjLwOjsO"
      }
    },
    {
      "cell_type": "markdown",
      "source": [
        "\n",
        "# **Business Questions**\n",
        "\n",
        "*   What is the best way to segment Google organic search traffic, and why?\n",
        "*   Which entry page(s) would be a good place to focus on optimizing and why?\n",
        "*   What is the best way to measure how many transactions were completed and conversion rate, and why?\n",
        "*   Which continent has the highest add-to-cart rate on mobile?\n",
        "*   Given the above business KPIs, please provide 3 suggestions for additional data to be captured in Google Analytics to make this dataset more useful."
      ],
      "metadata": {
        "id": "euyegfuAOxpB"
      }
    },
    {
      "cell_type": "markdown",
      "source": [
        "#Imports"
      ],
      "metadata": {
        "id": "cdOlBytk4nzx"
      }
    },
    {
      "cell_type": "code",
      "source": [
        "# imports\n",
        "import pandas as pd\n",
        "import matplotlib.pyplot as plt\n",
        "import seaborn as sns\n",
        "sns.set()\n",
        "import numpy as np"
      ],
      "metadata": {
        "id": "ftkZ-zVCMKf6"
      },
      "execution_count": 1,
      "outputs": []
    },
    {
      "cell_type": "code",
      "execution_count": 2,
      "metadata": {
        "colab": {
          "base_uri": "https://localhost:8080/"
        },
        "id": "WH1G-obUL6un",
        "outputId": "769fb34b-a3cb-4886-c293-c163025c6196"
      },
      "outputs": [
        {
          "output_type": "stream",
          "name": "stdout",
          "text": [
            "Mounted at /content/drive\n"
          ]
        }
      ],
      "source": [
        "# mounting google drive\n",
        "from google.colab import drive\n",
        "drive.mount('/content/drive')"
      ]
    },
    {
      "cell_type": "code",
      "source": [
        "path = '/content/drive/MyDrive/Colabby Krabby Paddy/workhuman_data_analytic_canidate_exercise/da_google_analytics_sample.xlsx'"
      ],
      "metadata": {
        "id": "H1EfAH-yMSeT"
      },
      "execution_count": 3,
      "outputs": []
    },
    {
      "cell_type": "code",
      "source": [
        "df = pd.read_excel(path, index_col = 'fullVisitorID')"
      ],
      "metadata": {
        "id": "JLi8YscxNQFD"
      },
      "execution_count": 4,
      "outputs": []
    },
    {
      "cell_type": "code",
      "source": [
        "cols_to_drop = ['trafficSource.campaignCode', 'hits.transaction.transactionCoupon', 'hits.eventInfo.eventValue', 'userId']\n",
        "df.drop(cols_to_drop, axis = 1, inplace = True)"
      ],
      "metadata": {
        "id": "YfOj4A9zRgqZ"
      },
      "execution_count": 5,
      "outputs": []
    },
    {
      "cell_type": "code",
      "source": [
        "df['date'] = pd.to_datetime(df['date'], format = '%Y%m%d')"
      ],
      "metadata": {
        "id": "-crPEW7LTtOi"
      },
      "execution_count": 6,
      "outputs": []
    },
    {
      "cell_type": "markdown",
      "source": [
        "# Current"
      ],
      "metadata": {
        "id": "-EBpcdRa_0E_"
      }
    },
    {
      "cell_type": "code",
      "source": [
        "df_grouped = df.groupby(df.index)"
      ],
      "metadata": {
        "id": "VP9LjYn9GSwG"
      },
      "execution_count": 7,
      "outputs": []
    },
    {
      "cell_type": "code",
      "source": [
        "df.head(3)"
      ],
      "metadata": {
        "colab": {
          "base_uri": "https://localhost:8080/",
          "height": 291
        },
        "id": "1F_SOm1CNe81",
        "outputId": "68c150d4-6a63-4432-8ab6-11b373e68401"
      },
      "execution_count": 8,
      "outputs": [
        {
          "output_type": "execute_result",
          "data": {
            "text/html": [
              "\n",
              "  <div id=\"df-0c18d9fe-6cdb-49ab-a151-405550c350e3\">\n",
              "    <div class=\"colab-df-container\">\n",
              "      <div>\n",
              "<style scoped>\n",
              "    .dataframe tbody tr th:only-of-type {\n",
              "        vertical-align: middle;\n",
              "    }\n",
              "\n",
              "    .dataframe tbody tr th {\n",
              "        vertical-align: top;\n",
              "    }\n",
              "\n",
              "    .dataframe thead th {\n",
              "        text-align: right;\n",
              "    }\n",
              "</style>\n",
              "<table border=\"1\" class=\"dataframe\">\n",
              "  <thead>\n",
              "    <tr style=\"text-align: right;\">\n",
              "      <th></th>\n",
              "      <th>visitNumber</th>\n",
              "      <th>visitId</th>\n",
              "      <th>visitStartTime</th>\n",
              "      <th>date</th>\n",
              "      <th>totals.visits</th>\n",
              "      <th>totals.hits</th>\n",
              "      <th>totals.pageviews</th>\n",
              "      <th>totals.timeOnSite</th>\n",
              "      <th>totals.newVisits</th>\n",
              "      <th>trafficSource.campaign</th>\n",
              "      <th>trafficSource.source</th>\n",
              "      <th>trafficSource.medium</th>\n",
              "      <th>trafficSource.keyword</th>\n",
              "      <th>device.browser</th>\n",
              "      <th>device.operatingSystem</th>\n",
              "      <th>device.isMobile</th>\n",
              "      <th>device.deviceCategory</th>\n",
              "      <th>geoNetwork.continent</th>\n",
              "      <th>geoNetwork.subContinent</th>\n",
              "      <th>geoNetwork.ountry</th>\n",
              "      <th>geoNetwork.networkDomain</th>\n",
              "      <th>hits.hitNumber</th>\n",
              "      <th>hits.time</th>\n",
              "      <th>hits.hour</th>\n",
              "      <th>hits.minute</th>\n",
              "      <th>hits.isInteraction</th>\n",
              "      <th>hits.isEntrance</th>\n",
              "      <th>hits.isExit</th>\n",
              "      <th>hits.referer</th>\n",
              "      <th>hits.page.pagePath</th>\n",
              "      <th>hits.page.hostname</th>\n",
              "      <th>hits.page.pageTitle</th>\n",
              "      <th>hits.page.pagePathLevel1</th>\n",
              "      <th>hits.page.pagePathLevel2</th>\n",
              "      <th>hits.page.pagePathLevel3</th>\n",
              "      <th>hits.page.pagePathLevel4</th>\n",
              "      <th>hits.transaction.transactionId</th>\n",
              "      <th>hits.transaction.transactionRevenue</th>\n",
              "      <th>hits.transaction.transactionTax</th>\n",
              "      <th>hits.transaction.transactionShipping</th>\n",
              "      <th>hits.eventInfo.eventCategory</th>\n",
              "      <th>hits.eventInfo.eventAction</th>\n",
              "      <th>hits.eventInfo.eventLabel</th>\n",
              "      <th>hits.eCommerceAction.action_type</th>\n",
              "      <th>hits.eCommerceAction.step</th>\n",
              "      <th>hits.eCommerceAction.option</th>\n",
              "      <th>hits.type</th>\n",
              "      <th>hits.latencyTracking.pageLoadSample</th>\n",
              "      <th>hits.latencyTracking.pageLoadTime</th>\n",
              "      <th>hits.latencyTracking.pageDownloadTime</th>\n",
              "      <th>channelGrouping</th>\n",
              "    </tr>\n",
              "    <tr>\n",
              "      <th>fullVisitorID</th>\n",
              "      <th></th>\n",
              "      <th></th>\n",
              "      <th></th>\n",
              "      <th></th>\n",
              "      <th></th>\n",
              "      <th></th>\n",
              "      <th></th>\n",
              "      <th></th>\n",
              "      <th></th>\n",
              "      <th></th>\n",
              "      <th></th>\n",
              "      <th></th>\n",
              "      <th></th>\n",
              "      <th></th>\n",
              "      <th></th>\n",
              "      <th></th>\n",
              "      <th></th>\n",
              "      <th></th>\n",
              "      <th></th>\n",
              "      <th></th>\n",
              "      <th></th>\n",
              "      <th></th>\n",
              "      <th></th>\n",
              "      <th></th>\n",
              "      <th></th>\n",
              "      <th></th>\n",
              "      <th></th>\n",
              "      <th></th>\n",
              "      <th></th>\n",
              "      <th></th>\n",
              "      <th></th>\n",
              "      <th></th>\n",
              "      <th></th>\n",
              "      <th></th>\n",
              "      <th></th>\n",
              "      <th></th>\n",
              "      <th></th>\n",
              "      <th></th>\n",
              "      <th></th>\n",
              "      <th></th>\n",
              "      <th></th>\n",
              "      <th></th>\n",
              "      <th></th>\n",
              "      <th></th>\n",
              "      <th></th>\n",
              "      <th></th>\n",
              "      <th></th>\n",
              "      <th></th>\n",
              "      <th></th>\n",
              "      <th></th>\n",
              "      <th></th>\n",
              "    </tr>\n",
              "  </thead>\n",
              "  <tbody>\n",
              "    <tr>\n",
              "      <th>8467980000000000000</th>\n",
              "      <td>1</td>\n",
              "      <td>1489544305</td>\n",
              "      <td>1489544305</td>\n",
              "      <td>2017-03-14</td>\n",
              "      <td>1</td>\n",
              "      <td>1</td>\n",
              "      <td>1.0</td>\n",
              "      <td>NaN</td>\n",
              "      <td>1.0</td>\n",
              "      <td>(not set)</td>\n",
              "      <td>google</td>\n",
              "      <td>organic</td>\n",
              "      <td>(not provided)</td>\n",
              "      <td>Chrome</td>\n",
              "      <td>Windows</td>\n",
              "      <td>False</td>\n",
              "      <td>desktop</td>\n",
              "      <td>Oceania</td>\n",
              "      <td>Australasia</td>\n",
              "      <td>Australia</td>\n",
              "      <td>bigpond.net.au</td>\n",
              "      <td>1</td>\n",
              "      <td>0</td>\n",
              "      <td>19</td>\n",
              "      <td>18</td>\n",
              "      <td>True</td>\n",
              "      <td>1.0</td>\n",
              "      <td>1.0</td>\n",
              "      <td>https://www.google.com.au/</td>\n",
              "      <td>/home</td>\n",
              "      <td>www.googlemerchandisestore.com</td>\n",
              "      <td>Google Online Store</td>\n",
              "      <td>/home</td>\n",
              "      <td>NaN</td>\n",
              "      <td>NaN</td>\n",
              "      <td>NaN</td>\n",
              "      <td>NaN</td>\n",
              "      <td>NaN</td>\n",
              "      <td>NaN</td>\n",
              "      <td>NaN</td>\n",
              "      <td>NaN</td>\n",
              "      <td>NaN</td>\n",
              "      <td>NaN</td>\n",
              "      <td>0</td>\n",
              "      <td>1</td>\n",
              "      <td>NaN</td>\n",
              "      <td>PAGE</td>\n",
              "      <td>NaN</td>\n",
              "      <td>NaN</td>\n",
              "      <td>NaN</td>\n",
              "      <td>Organic Search</td>\n",
              "    </tr>\n",
              "    <tr>\n",
              "      <th>1061800000000000000</th>\n",
              "      <td>1</td>\n",
              "      <td>1489496466</td>\n",
              "      <td>1489496466</td>\n",
              "      <td>2017-03-14</td>\n",
              "      <td>1</td>\n",
              "      <td>1</td>\n",
              "      <td>1.0</td>\n",
              "      <td>NaN</td>\n",
              "      <td>1.0</td>\n",
              "      <td>(not set)</td>\n",
              "      <td>google</td>\n",
              "      <td>organic</td>\n",
              "      <td>(not provided)</td>\n",
              "      <td>Chrome</td>\n",
              "      <td>Windows</td>\n",
              "      <td>False</td>\n",
              "      <td>desktop</td>\n",
              "      <td>Europe</td>\n",
              "      <td>Western Europe</td>\n",
              "      <td>France</td>\n",
              "      <td>eurorscg.fr</td>\n",
              "      <td>1</td>\n",
              "      <td>0</td>\n",
              "      <td>6</td>\n",
              "      <td>1</td>\n",
              "      <td>True</td>\n",
              "      <td>1.0</td>\n",
              "      <td>1.0</td>\n",
              "      <td>https://www.google.fr/</td>\n",
              "      <td>/home</td>\n",
              "      <td>www.googlemerchandisestore.com</td>\n",
              "      <td>Google Online Store</td>\n",
              "      <td>/home</td>\n",
              "      <td>NaN</td>\n",
              "      <td>NaN</td>\n",
              "      <td>NaN</td>\n",
              "      <td>NaN</td>\n",
              "      <td>NaN</td>\n",
              "      <td>NaN</td>\n",
              "      <td>NaN</td>\n",
              "      <td>NaN</td>\n",
              "      <td>NaN</td>\n",
              "      <td>NaN</td>\n",
              "      <td>0</td>\n",
              "      <td>1</td>\n",
              "      <td>NaN</td>\n",
              "      <td>PAGE</td>\n",
              "      <td>NaN</td>\n",
              "      <td>NaN</td>\n",
              "      <td>NaN</td>\n",
              "      <td>Organic Search</td>\n",
              "    </tr>\n",
              "    <tr>\n",
              "      <th>2833520000000000000</th>\n",
              "      <td>1</td>\n",
              "      <td>1489517319</td>\n",
              "      <td>1489517319</td>\n",
              "      <td>2017-03-14</td>\n",
              "      <td>1</td>\n",
              "      <td>1</td>\n",
              "      <td>1.0</td>\n",
              "      <td>NaN</td>\n",
              "      <td>1.0</td>\n",
              "      <td>(not set)</td>\n",
              "      <td>bing</td>\n",
              "      <td>organic</td>\n",
              "      <td>google merchandise</td>\n",
              "      <td>Internet Explorer</td>\n",
              "      <td>Windows</td>\n",
              "      <td>True</td>\n",
              "      <td>mobile</td>\n",
              "      <td>Asia</td>\n",
              "      <td>Western Asia</td>\n",
              "      <td>Israel</td>\n",
              "      <td>sfr.net</td>\n",
              "      <td>1</td>\n",
              "      <td>0</td>\n",
              "      <td>11</td>\n",
              "      <td>48</td>\n",
              "      <td>True</td>\n",
              "      <td>1.0</td>\n",
              "      <td>1.0</td>\n",
              "      <td>http://www.bing.com/search?q=google+merchandis...</td>\n",
              "      <td>/home</td>\n",
              "      <td>www.googlemerchandisestore.com</td>\n",
              "      <td>Google Online Store</td>\n",
              "      <td>/home</td>\n",
              "      <td>NaN</td>\n",
              "      <td>NaN</td>\n",
              "      <td>NaN</td>\n",
              "      <td>NaN</td>\n",
              "      <td>NaN</td>\n",
              "      <td>NaN</td>\n",
              "      <td>NaN</td>\n",
              "      <td>NaN</td>\n",
              "      <td>NaN</td>\n",
              "      <td>NaN</td>\n",
              "      <td>0</td>\n",
              "      <td>1</td>\n",
              "      <td>NaN</td>\n",
              "      <td>PAGE</td>\n",
              "      <td>NaN</td>\n",
              "      <td>NaN</td>\n",
              "      <td>NaN</td>\n",
              "      <td>Organic Search</td>\n",
              "    </tr>\n",
              "  </tbody>\n",
              "</table>\n",
              "</div>\n",
              "      <button class=\"colab-df-convert\" onclick=\"convertToInteractive('df-0c18d9fe-6cdb-49ab-a151-405550c350e3')\"\n",
              "              title=\"Convert this dataframe to an interactive table.\"\n",
              "              style=\"display:none;\">\n",
              "        \n",
              "  <svg xmlns=\"http://www.w3.org/2000/svg\" height=\"24px\"viewBox=\"0 0 24 24\"\n",
              "       width=\"24px\">\n",
              "    <path d=\"M0 0h24v24H0V0z\" fill=\"none\"/>\n",
              "    <path d=\"M18.56 5.44l.94 2.06.94-2.06 2.06-.94-2.06-.94-.94-2.06-.94 2.06-2.06.94zm-11 1L8.5 8.5l.94-2.06 2.06-.94-2.06-.94L8.5 2.5l-.94 2.06-2.06.94zm10 10l.94 2.06.94-2.06 2.06-.94-2.06-.94-.94-2.06-.94 2.06-2.06.94z\"/><path d=\"M17.41 7.96l-1.37-1.37c-.4-.4-.92-.59-1.43-.59-.52 0-1.04.2-1.43.59L10.3 9.45l-7.72 7.72c-.78.78-.78 2.05 0 2.83L4 21.41c.39.39.9.59 1.41.59.51 0 1.02-.2 1.41-.59l7.78-7.78 2.81-2.81c.8-.78.8-2.07 0-2.86zM5.41 20L4 18.59l7.72-7.72 1.47 1.35L5.41 20z\"/>\n",
              "  </svg>\n",
              "      </button>\n",
              "      \n",
              "  <style>\n",
              "    .colab-df-container {\n",
              "      display:flex;\n",
              "      flex-wrap:wrap;\n",
              "      gap: 12px;\n",
              "    }\n",
              "\n",
              "    .colab-df-convert {\n",
              "      background-color: #E8F0FE;\n",
              "      border: none;\n",
              "      border-radius: 50%;\n",
              "      cursor: pointer;\n",
              "      display: none;\n",
              "      fill: #1967D2;\n",
              "      height: 32px;\n",
              "      padding: 0 0 0 0;\n",
              "      width: 32px;\n",
              "    }\n",
              "\n",
              "    .colab-df-convert:hover {\n",
              "      background-color: #E2EBFA;\n",
              "      box-shadow: 0px 1px 2px rgba(60, 64, 67, 0.3), 0px 1px 3px 1px rgba(60, 64, 67, 0.15);\n",
              "      fill: #174EA6;\n",
              "    }\n",
              "\n",
              "    [theme=dark] .colab-df-convert {\n",
              "      background-color: #3B4455;\n",
              "      fill: #D2E3FC;\n",
              "    }\n",
              "\n",
              "    [theme=dark] .colab-df-convert:hover {\n",
              "      background-color: #434B5C;\n",
              "      box-shadow: 0px 1px 3px 1px rgba(0, 0, 0, 0.15);\n",
              "      filter: drop-shadow(0px 1px 2px rgba(0, 0, 0, 0.3));\n",
              "      fill: #FFFFFF;\n",
              "    }\n",
              "  </style>\n",
              "\n",
              "      <script>\n",
              "        const buttonEl =\n",
              "          document.querySelector('#df-0c18d9fe-6cdb-49ab-a151-405550c350e3 button.colab-df-convert');\n",
              "        buttonEl.style.display =\n",
              "          google.colab.kernel.accessAllowed ? 'block' : 'none';\n",
              "\n",
              "        async function convertToInteractive(key) {\n",
              "          const element = document.querySelector('#df-0c18d9fe-6cdb-49ab-a151-405550c350e3');\n",
              "          const dataTable =\n",
              "            await google.colab.kernel.invokeFunction('convertToInteractive',\n",
              "                                                     [key], {});\n",
              "          if (!dataTable) return;\n",
              "\n",
              "          const docLinkHtml = 'Like what you see? Visit the ' +\n",
              "            '<a target=\"_blank\" href=https://colab.research.google.com/notebooks/data_table.ipynb>data table notebook</a>'\n",
              "            + ' to learn more about interactive tables.';\n",
              "          element.innerHTML = '';\n",
              "          dataTable['output_type'] = 'display_data';\n",
              "          await google.colab.output.renderOutput(dataTable, element);\n",
              "          const docLink = document.createElement('div');\n",
              "          docLink.innerHTML = docLinkHtml;\n",
              "          element.appendChild(docLink);\n",
              "        }\n",
              "      </script>\n",
              "    </div>\n",
              "  </div>\n",
              "  "
            ],
            "text/plain": [
              "                     visitNumber  ...  channelGrouping\n",
              "fullVisitorID                     ...                 \n",
              "8467980000000000000            1  ...   Organic Search\n",
              "1061800000000000000            1  ...   Organic Search\n",
              "2833520000000000000            1  ...   Organic Search\n",
              "\n",
              "[3 rows x 51 columns]"
            ]
          },
          "metadata": {},
          "execution_count": 8
        }
      ]
    },
    {
      "cell_type": "code",
      "source": [
        "df['device.deviceCategory'].value_counts()"
      ],
      "metadata": {
        "colab": {
          "base_uri": "https://localhost:8080/"
        },
        "id": "eojSCec8Z6CK",
        "outputId": "6e38f674-7616-4ca3-844b-6575974d06d6"
      },
      "execution_count": 9,
      "outputs": [
        {
          "output_type": "execute_result",
          "data": {
            "text/plain": [
              "desktop    7753\n",
              "mobile     1784\n",
              "tablet      183\n",
              "Name: device.deviceCategory, dtype: int64"
            ]
          },
          "metadata": {},
          "execution_count": 9
        }
      ]
    },
    {
      "cell_type": "code",
      "source": [
        "df['device.browser'].value_counts()"
      ],
      "metadata": {
        "colab": {
          "base_uri": "https://localhost:8080/"
        },
        "id": "My7GkcCxIX4n",
        "outputId": "0a33b88c-adad-4c92-ccb1-284784ff499d"
      },
      "execution_count": 10,
      "outputs": [
        {
          "output_type": "execute_result",
          "data": {
            "text/plain": [
              "Chrome                      7590\n",
              "Safari                       950\n",
              "Firefox                      440\n",
              "Edge                         300\n",
              "Internet Explorer            153\n",
              "Android Webview              128\n",
              "Opera Mini                    78\n",
              "Safari (in-app)               47\n",
              "UC Browser                    13\n",
              "Opera                          8\n",
              "YaBrowser                      4\n",
              "Amazon Silk                    3\n",
              "Coc Coc                        2\n",
              "Android Browser                2\n",
              "Nokia Browser                  1\n",
              "Mozilla Compatible Agent       1\n",
              "Name: device.browser, dtype: int64"
            ]
          },
          "metadata": {},
          "execution_count": 10
        }
      ]
    },
    {
      "cell_type": "code",
      "source": [
        "# browser count\n",
        "ax, fig = plt.subplots(figsize = (35,10))\n",
        "sns.barplot(x = df['device.browser'].unique(), y = df['device.browser'].value_counts())\n",
        "plt.title('Browser Count %')\n",
        "plt.plot()"
      ],
      "metadata": {
        "colab": {
          "base_uri": "https://localhost:8080/",
          "height": 423
        },
        "id": "ZURuO1WsG5Ik",
        "outputId": "33f0a4dc-aee8-4cfd-9530-351502f9a587"
      },
      "execution_count": 11,
      "outputs": [
        {
          "output_type": "execute_result",
          "data": {
            "text/plain": [
              "[]"
            ]
          },
          "metadata": {},
          "execution_count": 11
        },
        {
          "output_type": "display_data",
          "data": {
            "image/png": "[encoded data removed]",
            "text/plain": [
              "<Figure size 2520x720 with 1 Axes>"
            ]
          },
          "metadata": {
            "needs_background": "light"
          }
        }
      ]
    },
    {
      "cell_type": "code",
      "source": [
        "df['device.deviceCategory'].value_counts()"
      ],
      "metadata": {
        "colab": {
          "base_uri": "https://localhost:8080/"
        },
        "id": "rinWHk_lNO6w",
        "outputId": "fdcabfee-6e81-4917-e54a-7f597281ff0b"
      },
      "execution_count": 12,
      "outputs": [
        {
          "output_type": "execute_result",
          "data": {
            "text/plain": [
              "desktop    7753\n",
              "mobile     1784\n",
              "tablet      183\n",
              "Name: device.deviceCategory, dtype: int64"
            ]
          },
          "metadata": {},
          "execution_count": 12
        }
      ]
    },
    {
      "cell_type": "code",
      "source": [
        "#device.deviceCategory\t\n",
        "ax, fig = plt.subplots(figsize = (20,10))\n",
        "sns.barplot(x = df['device.deviceCategory'].unique(), y = df['device.deviceCategory'].value_counts() / df['device.deviceCategory'].value_counts().sum())\n",
        "plt.title('Device Count %')\n",
        "plt.plot()"
      ],
      "metadata": {
        "colab": {
          "base_uri": "https://localhost:8080/",
          "height": 628
        },
        "id": "28YZULyAF_Ur",
        "outputId": "fd17b09f-97a7-4e3c-f65e-9c95f39e5ffc"
      },
      "execution_count": 13,
      "outputs": [
        {
          "output_type": "execute_result",
          "data": {
            "text/plain": [
              "[]"
            ]
          },
          "metadata": {},
          "execution_count": 13
        },
        {
          "output_type": "display_data",
          "data": {
            "image/png": "[encoded data removed]",
            "text/plain": [
              "<Figure size 1440x720 with 1 Axes>"
            ]
          },
          "metadata": {
            "needs_background": "light"
          }
        }
      ]
    },
    {
      "cell_type": "code",
      "source": [
        "#device.deviceCategory\t\n",
        "ax, fig = plt.subplots(figsize = (30,10))\n",
        "sns.barplot(x = df['trafficSource.source'].unique()[0:10], y = df['trafficSource.source'].value_counts().iloc[:10] / df['trafficSource.source'].value_counts().iloc[:10].sum())\n",
        "plt.title('Top 10 Traffic Source Count %')\n",
        "plt.plot()"
      ],
      "metadata": {
        "colab": {
          "base_uri": "https://localhost:8080/",
          "height": 488
        },
        "id": "8WWxjXq4EsPu",
        "outputId": "d510e98d-a8db-461a-a9da-030e8f91e8c4"
      },
      "execution_count": 14,
      "outputs": [
        {
          "output_type": "execute_result",
          "data": {
            "text/plain": [
              "[]"
            ]
          },
          "metadata": {},
          "execution_count": 14
        },
        {
          "output_type": "display_data",
          "data": {
            "image/png": "[encoded data removed]",
            "text/plain": [
              "<Figure size 2160x720 with 1 Axes>"
            ]
          },
          "metadata": {
            "needs_background": "light"
          }
        }
      ]
    },
    {
      "cell_type": "code",
      "source": [
        "df['channelGrouping'].value_counts()"
      ],
      "metadata": {
        "colab": {
          "base_uri": "https://localhost:8080/"
        },
        "id": "vw4bNeCtAUWZ",
        "outputId": "1b6679e8-f047-4a2d-b9b0-d63ac8984778"
      },
      "execution_count": 15,
      "outputs": [
        {
          "output_type": "execute_result",
          "data": {
            "text/plain": [
              "Organic Search    5013\n",
              "Referral          1932\n",
              "Direct            1421\n",
              "Social             938\n",
              "Paid Search        217\n",
              "Affiliates         127\n",
              "Display             72\n",
              "Name: channelGrouping, dtype: int64"
            ]
          },
          "metadata": {},
          "execution_count": 15
        }
      ]
    },
    {
      "cell_type": "code",
      "source": [
        "df['device.isMobile'].value_counts()"
      ],
      "metadata": {
        "colab": {
          "base_uri": "https://localhost:8080/"
        },
        "id": "d9ysNrYHSdq0",
        "outputId": "83c2542e-de91-4d87-b7a6-f33070a79c4b"
      },
      "execution_count": 16,
      "outputs": [
        {
          "output_type": "execute_result",
          "data": {
            "text/plain": [
              "False    7753\n",
              "True     1967\n",
              "Name: device.isMobile, dtype: int64"
            ]
          },
          "metadata": {},
          "execution_count": 16
        }
      ]
    },
    {
      "cell_type": "code",
      "source": [
        "ax, fig = plt.subplots(figsize = (30,10))\n",
        "sns.boxplot(df['channelGrouping'].unique(), df['channelGrouping'].value_counts() / df['channelGrouping'].value_counts().sum())\n",
        "plt.title('Channel Count %')\n",
        "plt.plot()"
      ],
      "metadata": {
        "colab": {
          "base_uri": "https://localhost:8080/",
          "height": 544
        },
        "id": "Sq3KK3ExPHFj",
        "outputId": "afc52d62-07e0-487a-8f66-52e6bbe94f2a"
      },
      "execution_count": 36,
      "outputs": [
        {
          "output_type": "stream",
          "name": "stderr",
          "text": [
            "/usr/local/lib/python3.7/dist-packages/seaborn/_decorators.py:43: FutureWarning: Pass the following variables as keyword args: x, y. From version 0.12, the only valid positional argument will be `data`, and passing other arguments without an explicit keyword will result in an error or misinterpretation.\n",
            "  FutureWarning\n"
          ]
        },
        {
          "output_type": "execute_result",
          "data": {
            "text/plain": [
              "[]"
            ]
          },
          "metadata": {},
          "execution_count": 36
        },
        {
          "output_type": "display_data",
          "data": {
            "image/png": "[encoded data removed]",
            "text/plain": [
              "<Figure size 2160x720 with 1 Axes>"
            ]
          },
          "metadata": {
            "needs_background": "light"
          }
        }
      ]
    },
    {
      "cell_type": "code",
      "source": [
        "channel_mobile_group = df.groupby(['channelGrouping', 'device.isMobile'])\n",
        "channel_mobile_group_count = channel_mobile_group['channelGrouping'].count()\n",
        "channel_mobile_group_count.unstack().plot.bar(figsize = (20, 10), title = 'Channel Grouping Count by Mobile')"
      ],
      "metadata": {
        "colab": {
          "base_uri": "https://localhost:8080/",
          "height": 720
        },
        "id": "K3_53FTdVcpl",
        "outputId": "ac8acb9e-795c-41da-9002-58fe9466f338"
      },
      "execution_count": 18,
      "outputs": [
        {
          "output_type": "execute_result",
          "data": {
            "text/plain": [
              "<matplotlib.axes._subplots.AxesSubplot at 0x7fecaf188e90>"
            ]
          },
          "metadata": {},
          "execution_count": 18
        },
        {
          "output_type": "display_data",
          "data": {
            "image/png": "[encoded data removed]",
            "text/plain": [
              "<Figure size 1440x720 with 1 Axes>"
            ]
          },
          "metadata": {
            "needs_background": "light"
          }
        }
      ]
    },
    {
      "cell_type": "code",
      "source": [
        "#df['device.deviceCategory'].value_counts()\n",
        "device_category_mobile_group = df.groupby(['channelGrouping', 'device.deviceCategory'])\n",
        "device_category_mobile_group_count = device_category_mobile_group['channelGrouping'].count()\n",
        "device_category_mobile_group_count.unstack().plot.bar(figsize = (20, 10), title = 'Channel Grouping by Device')"
      ],
      "metadata": {
        "colab": {
          "base_uri": "https://localhost:8080/",
          "height": 720
        },
        "id": "IBqdtyCdACLz",
        "outputId": "9872cae7-cc56-40b5-bbf6-71ba1d568de2"
      },
      "execution_count": 19,
      "outputs": [
        {
          "output_type": "execute_result",
          "data": {
            "text/plain": [
              "<matplotlib.axes._subplots.AxesSubplot at 0x7fecae3bdc90>"
            ]
          },
          "metadata": {},
          "execution_count": 19
        },
        {
          "output_type": "display_data",
          "data": {
            "image/png": "[encoded data removed]",
            "text/plain": [
              "<Figure size 1440x720 with 1 Axes>"
            ]
          },
          "metadata": {
            "needs_background": "light"
          }
        }
      ]
    },
    {
      "cell_type": "code",
      "source": [
        "df['hits.type'].value_counts()"
      ],
      "metadata": {
        "colab": {
          "base_uri": "https://localhost:8080/"
        },
        "id": "HXsZVaXeAFz_",
        "outputId": "847991ac-a745-41fa-d796-a690b4d0f90f"
      },
      "execution_count": 20,
      "outputs": [
        {
          "output_type": "execute_result",
          "data": {
            "text/plain": [
              "PAGE     8550\n",
              "EVENT    1170\n",
              "Name: hits.type, dtype: int64"
            ]
          },
          "metadata": {},
          "execution_count": 20
        }
      ]
    },
    {
      "cell_type": "code",
      "source": [
        "df['hits.transaction.transactionRevenue'].value_counts()"
      ],
      "metadata": {
        "id": "KwpZkGJY9CMA",
        "colab": {
          "base_uri": "https://localhost:8080/"
        },
        "outputId": "f2ee86e1-de92-49d7-a16d-ec8b95b4c294"
      },
      "execution_count": 21,
      "outputs": [
        {
          "output_type": "execute_result",
          "data": {
            "text/plain": [
              "22190000.0     3\n",
              "17990000.0     2\n",
              "23990000.0     2\n",
              "119960000.0    1\n",
              "29990000.0     1\n",
              "181970000.0    1\n",
              "38000000.0     1\n",
              "23190000.0     1\n",
              "96950000.0     1\n",
              "124150000.0    1\n",
              "135970000.0    1\n",
              "77970000.0     1\n",
              "487700000.0    1\n",
              "121900000.0    1\n",
              "71480000.0     1\n",
              "104970000.0    1\n",
              "20990000.0     1\n",
              "132980000.0    1\n",
              "140170000.0    1\n",
              "110970000.0    1\n",
              "199950000.0    1\n",
              "44990000.0     1\n",
              "110950000.0    1\n",
              "10980000.0     1\n",
              "112980000.0    1\n",
              "229970000.0    1\n",
              "23980000.0     1\n",
              "24990000.0     1\n",
              "109960000.0    1\n",
              "5590000.0      1\n",
              "245860000.0    1\n",
              "85080000.0     1\n",
              "236990000.0    1\n",
              "95400000.0     1\n",
              "130950000.0    1\n",
              "81850000.0     1\n",
              "Name: hits.transaction.transactionRevenue, dtype: int64"
            ]
          },
          "metadata": {},
          "execution_count": 21
        }
      ]
    },
    {
      "cell_type": "code",
      "source": [
        "df['visitNumber'].value_counts()"
      ],
      "metadata": {
        "id": "9tYiLnKsSY67",
        "colab": {
          "base_uri": "https://localhost:8080/"
        },
        "outputId": "4b4a17fa-59ab-49b1-9086-8d317fdb17fb"
      },
      "execution_count": 22,
      "outputs": [
        {
          "output_type": "execute_result",
          "data": {
            "text/plain": [
              "1      6746\n",
              "2      1218\n",
              "3       468\n",
              "4       421\n",
              "5       231\n",
              "7       120\n",
              "6       115\n",
              "22       81\n",
              "12       53\n",
              "14       47\n",
              "9        32\n",
              "20       28\n",
              "10       21\n",
              "19       16\n",
              "17       16\n",
              "15       15\n",
              "11       14\n",
              "8        12\n",
              "21        9\n",
              "27        6\n",
              "23        6\n",
              "38        5\n",
              "24        4\n",
              "13        4\n",
              "265       4\n",
              "227       3\n",
              "35        3\n",
              "138       3\n",
              "36        3\n",
              "48        2\n",
              "18        2\n",
              "134       2\n",
              "136       2\n",
              "64        1\n",
              "135       1\n",
              "65        1\n",
              "137       1\n",
              "63        1\n",
              "228       1\n",
              "85        1\n",
              "43        1\n",
              "Name: visitNumber, dtype: int64"
            ]
          },
          "metadata": {},
          "execution_count": 22
        }
      ]
    },
    {
      "cell_type": "code",
      "source": [
        "df.dtypes"
      ],
      "metadata": {
        "colab": {
          "base_uri": "https://localhost:8080/"
        },
        "id": "2Zoz2H9MS8Tv",
        "outputId": "eb075b91-62b7-412b-ae98-8f4a1d2398a0"
      },
      "execution_count": 23,
      "outputs": [
        {
          "output_type": "execute_result",
          "data": {
            "text/plain": [
              "visitNumber                                       int64\n",
              "visitId                                           int64\n",
              "visitStartTime                                    int64\n",
              "date                                     datetime64[ns]\n",
              "totals.visits                                     int64\n",
              "totals.hits                                       int64\n",
              "totals.pageviews                                float64\n",
              "totals.timeOnSite                               float64\n",
              "totals.newVisits                                float64\n",
              "trafficSource.campaign                           object\n",
              "trafficSource.source                             object\n",
              "trafficSource.medium                             object\n",
              "trafficSource.keyword                            object\n",
              "device.browser                                   object\n",
              "device.operatingSystem                           object\n",
              "device.isMobile                                    bool\n",
              "device.deviceCategory                            object\n",
              "geoNetwork.continent                             object\n",
              "geoNetwork.subContinent                          object\n",
              "geoNetwork.ountry                                object\n",
              "geoNetwork.networkDomain                         object\n",
              "hits.hitNumber                                    int64\n",
              "hits.time                                         int64\n",
              "hits.hour                                         int64\n",
              "hits.minute                                       int64\n",
              "hits.isInteraction                                 bool\n",
              "hits.isEntrance                                 float64\n",
              "hits.isExit                                     float64\n",
              "hits.referer                                     object\n",
              "hits.page.pagePath                               object\n",
              "hits.page.hostname                               object\n",
              "hits.page.pageTitle                              object\n",
              "hits.page.pagePathLevel1                         object\n",
              "hits.page.pagePathLevel2                         object\n",
              "hits.page.pagePathLevel3                         object\n",
              "hits.page.pagePathLevel4                         object\n",
              "hits.transaction.transactionId                   object\n",
              "hits.transaction.transactionRevenue             float64\n",
              "hits.transaction.transactionTax                 float64\n",
              "hits.transaction.transactionShipping            float64\n",
              "hits.eventInfo.eventCategory                     object\n",
              "hits.eventInfo.eventAction                       object\n",
              "hits.eventInfo.eventLabel                        object\n",
              "hits.eCommerceAction.action_type                  int64\n",
              "hits.eCommerceAction.step                         int64\n",
              "hits.eCommerceAction.option                      object\n",
              "hits.type                                        object\n",
              "hits.latencyTracking.pageLoadSample             float64\n",
              "hits.latencyTracking.pageLoadTime               float64\n",
              "hits.latencyTracking.pageDownloadTime           float64\n",
              "channelGrouping                                  object\n",
              "dtype: object"
            ]
          },
          "metadata": {},
          "execution_count": 23
        }
      ]
    },
    {
      "cell_type": "code",
      "source": [
        "df.describe()"
      ],
      "metadata": {
        "colab": {
          "base_uri": "https://localhost:8080/",
          "height": 364
        },
        "id": "gwjtLkWcNgZp",
        "outputId": "eac9f084-fc15-45bf-f478-8719fba520e0"
      },
      "execution_count": 24,
      "outputs": [
        {
          "output_type": "execute_result",
          "data": {
            "text/html": [
              "\n",
              "  <div id=\"df-25646ec0-f8e6-43e9-8869-67f002024ce9\">\n",
              "    <div class=\"colab-df-container\">\n",
              "      <div>\n",
              "<style scoped>\n",
              "    .dataframe tbody tr th:only-of-type {\n",
              "        vertical-align: middle;\n",
              "    }\n",
              "\n",
              "    .dataframe tbody tr th {\n",
              "        vertical-align: top;\n",
              "    }\n",
              "\n",
              "    .dataframe thead th {\n",
              "        text-align: right;\n",
              "    }\n",
              "</style>\n",
              "<table border=\"1\" class=\"dataframe\">\n",
              "  <thead>\n",
              "    <tr style=\"text-align: right;\">\n",
              "      <th></th>\n",
              "      <th>visitNumber</th>\n",
              "      <th>visitId</th>\n",
              "      <th>visitStartTime</th>\n",
              "      <th>totals.visits</th>\n",
              "      <th>totals.hits</th>\n",
              "      <th>totals.pageviews</th>\n",
              "      <th>totals.timeOnSite</th>\n",
              "      <th>totals.newVisits</th>\n",
              "      <th>hits.hitNumber</th>\n",
              "      <th>hits.time</th>\n",
              "      <th>hits.hour</th>\n",
              "      <th>hits.minute</th>\n",
              "      <th>hits.isEntrance</th>\n",
              "      <th>hits.isExit</th>\n",
              "      <th>hits.transaction.transactionRevenue</th>\n",
              "      <th>hits.transaction.transactionTax</th>\n",
              "      <th>hits.transaction.transactionShipping</th>\n",
              "      <th>hits.eCommerceAction.action_type</th>\n",
              "      <th>hits.eCommerceAction.step</th>\n",
              "      <th>hits.latencyTracking.pageLoadSample</th>\n",
              "      <th>hits.latencyTracking.pageLoadTime</th>\n",
              "      <th>hits.latencyTracking.pageDownloadTime</th>\n",
              "    </tr>\n",
              "  </thead>\n",
              "  <tbody>\n",
              "    <tr>\n",
              "      <th>count</th>\n",
              "      <td>9720.000000</td>\n",
              "      <td>9.720000e+03</td>\n",
              "      <td>9.720000e+03</td>\n",
              "      <td>9720.0</td>\n",
              "      <td>9720.000000</td>\n",
              "      <td>9718.000000</td>\n",
              "      <td>8533.000000</td>\n",
              "      <td>6746.0</td>\n",
              "      <td>9720.000000</td>\n",
              "      <td>9.720000e+03</td>\n",
              "      <td>9720.000000</td>\n",
              "      <td>9720.000000</td>\n",
              "      <td>2337.0</td>\n",
              "      <td>2337.0</td>\n",
              "      <td>4.000000e+01</td>\n",
              "      <td>3.200000e+01</td>\n",
              "      <td>4.000000e+01</td>\n",
              "      <td>9720.000000</td>\n",
              "      <td>9720.000000</td>\n",
              "      <td>95.0</td>\n",
              "      <td>95.000000</td>\n",
              "      <td>95.000000</td>\n",
              "    </tr>\n",
              "    <tr>\n",
              "      <th>mean</th>\n",
              "      <td>2.554218</td>\n",
              "      <td>1.489520e+09</td>\n",
              "      <td>1.489520e+09</td>\n",
              "      <td>1.0</td>\n",
              "      <td>21.861934</td>\n",
              "      <td>17.791727</td>\n",
              "      <td>853.666237</td>\n",
              "      <td>1.0</td>\n",
              "      <td>11.446399</td>\n",
              "      <td>4.066472e+05</td>\n",
              "      <td>12.038374</td>\n",
              "      <td>29.548765</td>\n",
              "      <td>1.0</td>\n",
              "      <td>1.0</td>\n",
              "      <td>9.800775e+07</td>\n",
              "      <td>1.435594e+07</td>\n",
              "      <td>1.478125e+07</td>\n",
              "      <td>0.504733</td>\n",
              "      <td>1.028807</td>\n",
              "      <td>1.0</td>\n",
              "      <td>11470.368421</td>\n",
              "      <td>684.947368</td>\n",
              "    </tr>\n",
              "    <tr>\n",
              "      <th>std</th>\n",
              "      <td>8.921266</td>\n",
              "      <td>2.279635e+04</td>\n",
              "      <td>2.279499e+04</td>\n",
              "      <td>0.0</td>\n",
              "      <td>38.012443</td>\n",
              "      <td>31.022326</td>\n",
              "      <td>1854.433413</td>\n",
              "      <td>0.0</td>\n",
              "      <td>22.831471</td>\n",
              "      <td>1.215049e+06</td>\n",
              "      <td>6.331991</td>\n",
              "      <td>17.318717</td>\n",
              "      <td>0.0</td>\n",
              "      <td>0.0</td>\n",
              "      <td>9.170047e+07</td>\n",
              "      <td>9.682333e+06</td>\n",
              "      <td>9.080651e+06</td>\n",
              "      <td>1.195207</td>\n",
              "      <td>0.213240</td>\n",
              "      <td>0.0</td>\n",
              "      <td>40755.534447</td>\n",
              "      <td>4788.293425</td>\n",
              "    </tr>\n",
              "    <tr>\n",
              "      <th>min</th>\n",
              "      <td>1.000000</td>\n",
              "      <td>1.489473e+09</td>\n",
              "      <td>1.489475e+09</td>\n",
              "      <td>1.0</td>\n",
              "      <td>1.000000</td>\n",
              "      <td>1.000000</td>\n",
              "      <td>2.000000</td>\n",
              "      <td>1.0</td>\n",
              "      <td>1.000000</td>\n",
              "      <td>0.000000e+00</td>\n",
              "      <td>0.000000</td>\n",
              "      <td>0.000000</td>\n",
              "      <td>1.0</td>\n",
              "      <td>1.0</td>\n",
              "      <td>5.590000e+06</td>\n",
              "      <td>2.970000e+06</td>\n",
              "      <td>7.500000e+06</td>\n",
              "      <td>0.000000</td>\n",
              "      <td>1.000000</td>\n",
              "      <td>1.0</td>\n",
              "      <td>1194.000000</td>\n",
              "      <td>1.000000</td>\n",
              "    </tr>\n",
              "    <tr>\n",
              "      <th>25%</th>\n",
              "      <td>1.000000</td>\n",
              "      <td>1.489504e+09</td>\n",
              "      <td>1.489504e+09</td>\n",
              "      <td>1.0</td>\n",
              "      <td>3.000000</td>\n",
              "      <td>3.000000</td>\n",
              "      <td>105.000000</td>\n",
              "      <td>1.0</td>\n",
              "      <td>2.000000</td>\n",
              "      <td>3.724500e+03</td>\n",
              "      <td>8.000000</td>\n",
              "      <td>15.000000</td>\n",
              "      <td>1.0</td>\n",
              "      <td>1.0</td>\n",
              "      <td>2.398750e+07</td>\n",
              "      <td>7.872500e+06</td>\n",
              "      <td>1.050000e+07</td>\n",
              "      <td>0.000000</td>\n",
              "      <td>1.000000</td>\n",
              "      <td>1.0</td>\n",
              "      <td>2616.500000</td>\n",
              "      <td>57.500000</td>\n",
              "    </tr>\n",
              "    <tr>\n",
              "      <th>50%</th>\n",
              "      <td>1.000000</td>\n",
              "      <td>1.489520e+09</td>\n",
              "      <td>1.489520e+09</td>\n",
              "      <td>1.0</td>\n",
              "      <td>10.000000</td>\n",
              "      <td>9.000000</td>\n",
              "      <td>316.000000</td>\n",
              "      <td>1.0</td>\n",
              "      <td>4.000000</td>\n",
              "      <td>7.619000e+04</td>\n",
              "      <td>12.000000</td>\n",
              "      <td>29.000000</td>\n",
              "      <td>1.0</td>\n",
              "      <td>1.0</td>\n",
              "      <td>9.024000e+07</td>\n",
              "      <td>1.288000e+07</td>\n",
              "      <td>1.150000e+07</td>\n",
              "      <td>0.000000</td>\n",
              "      <td>1.000000</td>\n",
              "      <td>1.0</td>\n",
              "      <td>3535.000000</td>\n",
              "      <td>119.000000</td>\n",
              "    </tr>\n",
              "    <tr>\n",
              "      <th>75%</th>\n",
              "      <td>2.000000</td>\n",
              "      <td>1.489536e+09</td>\n",
              "      <td>1.489536e+09</td>\n",
              "      <td>1.0</td>\n",
              "      <td>23.000000</td>\n",
              "      <td>18.000000</td>\n",
              "      <td>758.000000</td>\n",
              "      <td>1.0</td>\n",
              "      <td>11.000000</td>\n",
              "      <td>2.914350e+05</td>\n",
              "      <td>17.000000</td>\n",
              "      <td>45.000000</td>\n",
              "      <td>1.0</td>\n",
              "      <td>1.0</td>\n",
              "      <td>1.258500e+08</td>\n",
              "      <td>1.707250e+07</td>\n",
              "      <td>1.450000e+07</td>\n",
              "      <td>0.000000</td>\n",
              "      <td>1.000000</td>\n",
              "      <td>1.0</td>\n",
              "      <td>6270.000000</td>\n",
              "      <td>156.000000</td>\n",
              "    </tr>\n",
              "    <tr>\n",
              "      <th>max</th>\n",
              "      <td>265.000000</td>\n",
              "      <td>1.489561e+09</td>\n",
              "      <td>1.489561e+09</td>\n",
              "      <td>1.0</td>\n",
              "      <td>205.000000</td>\n",
              "      <td>179.000000</td>\n",
              "      <td>12136.000000</td>\n",
              "      <td>1.0</td>\n",
              "      <td>205.000000</td>\n",
              "      <td>1.213579e+07</td>\n",
              "      <td>23.000000</td>\n",
              "      <td>59.000000</td>\n",
              "      <td>1.0</td>\n",
              "      <td>1.0</td>\n",
              "      <td>4.877000e+08</td>\n",
              "      <td>5.162000e+07</td>\n",
              "      <td>5.573000e+07</td>\n",
              "      <td>6.000000</td>\n",
              "      <td>3.000000</td>\n",
              "      <td>1.0</td>\n",
              "      <td>381337.000000</td>\n",
              "      <td>46713.000000</td>\n",
              "    </tr>\n",
              "  </tbody>\n",
              "</table>\n",
              "</div>\n",
              "      <button class=\"colab-df-convert\" onclick=\"convertToInteractive('df-25646ec0-f8e6-43e9-8869-67f002024ce9')\"\n",
              "              title=\"Convert this dataframe to an interactive table.\"\n",
              "              style=\"display:none;\">\n",
              "        \n",
              "  <svg xmlns=\"http://www.w3.org/2000/svg\" height=\"24px\"viewBox=\"0 0 24 24\"\n",
              "       width=\"24px\">\n",
              "    <path d=\"M0 0h24v24H0V0z\" fill=\"none\"/>\n",
              "    <path d=\"M18.56 5.44l.94 2.06.94-2.06 2.06-.94-2.06-.94-.94-2.06-.94 2.06-2.06.94zm-11 1L8.5 8.5l.94-2.06 2.06-.94-2.06-.94L8.5 2.5l-.94 2.06-2.06.94zm10 10l.94 2.06.94-2.06 2.06-.94-2.06-.94-.94-2.06-.94 2.06-2.06.94z\"/><path d=\"M17.41 7.96l-1.37-1.37c-.4-.4-.92-.59-1.43-.59-.52 0-1.04.2-1.43.59L10.3 9.45l-7.72 7.72c-.78.78-.78 2.05 0 2.83L4 21.41c.39.39.9.59 1.41.59.51 0 1.02-.2 1.41-.59l7.78-7.78 2.81-2.81c.8-.78.8-2.07 0-2.86zM5.41 20L4 18.59l7.72-7.72 1.47 1.35L5.41 20z\"/>\n",
              "  </svg>\n",
              "      </button>\n",
              "      \n",
              "  <style>\n",
              "    .colab-df-container {\n",
              "      display:flex;\n",
              "      flex-wrap:wrap;\n",
              "      gap: 12px;\n",
              "    }\n",
              "\n",
              "    .colab-df-convert {\n",
              "      background-color: #E8F0FE;\n",
              "      border: none;\n",
              "      border-radius: 50%;\n",
              "      cursor: pointer;\n",
              "      display: none;\n",
              "      fill: #1967D2;\n",
              "      height: 32px;\n",
              "      padding: 0 0 0 0;\n",
              "      width: 32px;\n",
              "    }\n",
              "\n",
              "    .colab-df-convert:hover {\n",
              "      background-color: #E2EBFA;\n",
              "      box-shadow: 0px 1px 2px rgba(60, 64, 67, 0.3), 0px 1px 3px 1px rgba(60, 64, 67, 0.15);\n",
              "      fill: #174EA6;\n",
              "    }\n",
              "\n",
              "    [theme=dark] .colab-df-convert {\n",
              "      background-color: #3B4455;\n",
              "      fill: #D2E3FC;\n",
              "    }\n",
              "\n",
              "    [theme=dark] .colab-df-convert:hover {\n",
              "      background-color: #434B5C;\n",
              "      box-shadow: 0px 1px 3px 1px rgba(0, 0, 0, 0.15);\n",
              "      filter: drop-shadow(0px 1px 2px rgba(0, 0, 0, 0.3));\n",
              "      fill: #FFFFFF;\n",
              "    }\n",
              "  </style>\n",
              "\n",
              "      <script>\n",
              "        const buttonEl =\n",
              "          document.querySelector('#df-25646ec0-f8e6-43e9-8869-67f002024ce9 button.colab-df-convert');\n",
              "        buttonEl.style.display =\n",
              "          google.colab.kernel.accessAllowed ? 'block' : 'none';\n",
              "\n",
              "        async function convertToInteractive(key) {\n",
              "          const element = document.querySelector('#df-25646ec0-f8e6-43e9-8869-67f002024ce9');\n",
              "          const dataTable =\n",
              "            await google.colab.kernel.invokeFunction('convertToInteractive',\n",
              "                                                     [key], {});\n",
              "          if (!dataTable) return;\n",
              "\n",
              "          const docLinkHtml = 'Like what you see? Visit the ' +\n",
              "            '<a target=\"_blank\" href=https://colab.research.google.com/notebooks/data_table.ipynb>data table notebook</a>'\n",
              "            + ' to learn more about interactive tables.';\n",
              "          element.innerHTML = '';\n",
              "          dataTable['output_type'] = 'display_data';\n",
              "          await google.colab.output.renderOutput(dataTable, element);\n",
              "          const docLink = document.createElement('div');\n",
              "          docLink.innerHTML = docLinkHtml;\n",
              "          element.appendChild(docLink);\n",
              "        }\n",
              "      </script>\n",
              "    </div>\n",
              "  </div>\n",
              "  "
            ],
            "text/plain": [
              "       visitNumber  ...  hits.latencyTracking.pageDownloadTime\n",
              "count  9720.000000  ...                              95.000000\n",
              "mean      2.554218  ...                             684.947368\n",
              "std       8.921266  ...                            4788.293425\n",
              "min       1.000000  ...                               1.000000\n",
              "25%       1.000000  ...                              57.500000\n",
              "50%       1.000000  ...                             119.000000\n",
              "75%       2.000000  ...                             156.000000\n",
              "max     265.000000  ...                           46713.000000\n",
              "\n",
              "[8 rows x 22 columns]"
            ]
          },
          "metadata": {},
          "execution_count": 24
        }
      ]
    },
    {
      "cell_type": "markdown",
      "source": [
        "#1. What is the best way to segment Google organic search traffic, and why?"
      ],
      "metadata": {
        "id": "pbNPG6RQHTcO"
      }
    },
    {
      "cell_type": "code",
      "source": [
        "df['channelGrouping'].value_counts()"
      ],
      "metadata": {
        "colab": {
          "base_uri": "https://localhost:8080/"
        },
        "id": "myIcOusGHW21",
        "outputId": "25406a61-85eb-4310-eb05-c25229c30886"
      },
      "execution_count": 25,
      "outputs": [
        {
          "output_type": "execute_result",
          "data": {
            "text/plain": [
              "Organic Search    5013\n",
              "Referral          1932\n",
              "Direct            1421\n",
              "Social             938\n",
              "Paid Search        217\n",
              "Affiliates         127\n",
              "Display             72\n",
              "Name: channelGrouping, dtype: int64"
            ]
          },
          "metadata": {},
          "execution_count": 25
        }
      ]
    },
    {
      "cell_type": "code",
      "source": [
        "df['trafficSource.source'].value_counts()"
      ],
      "metadata": {
        "colab": {
          "base_uri": "https://localhost:8080/"
        },
        "id": "wyUfj_FsIr_d",
        "outputId": "3d7c44cd-73f2-4839-9beb-4850f171de14"
      },
      "execution_count": 26,
      "outputs": [
        {
          "output_type": "execute_result",
          "data": {
            "text/plain": [
              "google                     5119\n",
              "(direct)                   2891\n",
              "youtube.com                 623\n",
              "l.facebook.com              230\n",
              "analytics.google.com        170\n",
              "Partners                    127\n",
              "google.com                  111\n",
              "dfa                          72\n",
              "bing                         68\n",
              "mail.google.com              43\n",
              "sites.google.com             36\n",
              "siliconvalley.about.com      35\n",
              "sashihara.jp                 31\n",
              "yahoo                        24\n",
              "m.facebook.com               22\n",
              "reddit.com                   21\n",
              "t.co                         18\n",
              "baidu                        13\n",
              "groups.google.com            10\n",
              "facebook.com                  8\n",
              "qiita.com                     8\n",
              "docs.google.com               8\n",
              "blog.golang.org               7\n",
              "ask                           6\n",
              "quora.com                     6\n",
              "businessinsider.com           5\n",
              "google.nl                     2\n",
              "google.co.jp                  2\n",
              "web.skype.com                 1\n",
              "blognone.com                  1\n",
              "google.co.th                  1\n",
              "google.co.uk                  1\n",
              "Name: trafficSource.source, dtype: int64"
            ]
          },
          "metadata": {},
          "execution_count": 26
        }
      ]
    },
    {
      "cell_type": "code",
      "source": [
        "# channelgrouping = 'organic search' & traffic source = 'google'\n",
        "google_organic_traffic = df[(df['channelGrouping'] == 'Organic Search') & (df['trafficSource.source'] == 'google')]"
      ],
      "metadata": {
        "id": "ivO5JP03JJLC"
      },
      "execution_count": 28,
      "outputs": []
    },
    {
      "cell_type": "code",
      "source": [
        "google_organic_traffic.tail(5)"
      ],
      "metadata": {
        "id": "spppjmyVUh0D"
      },
      "execution_count": null,
      "outputs": []
    },
    {
      "cell_type": "code",
      "source": [
        "#channel_mobile_group = df.groupby(['channelGrouping', 'device.isMobile'])\n",
        "#channel_mobile_group_count = channel_mobile_group['channelGrouping'].count()\n",
        "#channel_mobile_group_count.unstack().plot.bar(figsize = (20, 10), title = 'Channel Grouping Count by Mobile')\n",
        "google_organic_traffic_by_continent = google_organic_traffic.groupby(['geoNetwork.continent']).count()\n",
        "print(google_organic_traffic_by_continent)\n",
        "\n",
        "google_organic_traffic_by_subContinent = google_organic_traffic.groupby(['geoNetwork.subContinent']).count()\n",
        "#print(google_organic_traffic_by_subContinent)\n",
        "\n",
        "google_organic_traffic_by_country = google_organic_traffic.groupby(['geoNetwork.ountry']).count()\n",
        "#print(google_organic_traffic_by_country)"
      ],
      "metadata": {
        "colab": {
          "base_uri": "https://localhost:8080/"
        },
        "id": "l3LOEKpMWy7N",
        "outputId": "dcee2d9d-a00c-4743-b4dd-e9123b7e1c71"
      },
      "execution_count": 50,
      "outputs": [
        {
          "output_type": "stream",
          "name": "stdout",
          "text": [
            "                      visitNumber  ...  channelGrouping\n",
            "geoNetwork.continent               ...                 \n",
            "(not set)                       9  ...                9\n",
            "Africa                         28  ...               28\n",
            "Americas                     3021  ...             3021\n",
            "Asia                          581  ...              581\n",
            "Europe                       1214  ...             1214\n",
            "Oceania                        49  ...               49\n",
            "\n",
            "[6 rows x 50 columns]\n"
          ]
        }
      ]
    },
    {
      "cell_type": "code",
      "source": [
        "google_organic_traffic.info()"
      ],
      "metadata": {
        "colab": {
          "base_uri": "https://localhost:8080/"
        },
        "id": "zFat2PYFNvUG",
        "outputId": "5c318ef1-87b0-4b51-d335-6a69b024164a"
      },
      "execution_count": 35,
      "outputs": [
        {
          "output_type": "stream",
          "name": "stdout",
          "text": [
            "<class 'pandas.core.frame.DataFrame'>\n",
            "UInt64Index: 4902 entries, 8467980000000000000 to 6957250000000000000\n",
            "Data columns (total 51 columns):\n",
            " #   Column                                 Non-Null Count  Dtype         \n",
            "---  ------                                 --------------  -----         \n",
            " 0   visitNumber                            4902 non-null   int64         \n",
            " 1   visitId                                4902 non-null   int64         \n",
            " 2   visitStartTime                         4902 non-null   int64         \n",
            " 3   date                                   4902 non-null   datetime64[ns]\n",
            " 4   totals.visits                          4902 non-null   int64         \n",
            " 5   totals.hits                            4902 non-null   int64         \n",
            " 6   totals.pageviews                       4900 non-null   float64       \n",
            " 7   totals.timeOnSite                      4307 non-null   float64       \n",
            " 8   totals.newVisits                       3801 non-null   float64       \n",
            " 9   trafficSource.campaign                 4902 non-null   object        \n",
            " 10  trafficSource.source                   4902 non-null   object        \n",
            " 11  trafficSource.medium                   4902 non-null   object        \n",
            " 12  trafficSource.keyword                  4883 non-null   object        \n",
            " 13  device.browser                         4902 non-null   object        \n",
            " 14  device.operatingSystem                 4902 non-null   object        \n",
            " 15  device.isMobile                        4902 non-null   bool          \n",
            " 16  device.deviceCategory                  4902 non-null   object        \n",
            " 17  geoNetwork.continent                   4902 non-null   object        \n",
            " 18  geoNetwork.subContinent                4902 non-null   object        \n",
            " 19  geoNetwork.ountry                      4902 non-null   object        \n",
            " 20  geoNetwork.networkDomain               4902 non-null   object        \n",
            " 21  hits.hitNumber                         4902 non-null   int64         \n",
            " 22  hits.time                              4902 non-null   int64         \n",
            " 23  hits.hour                              4902 non-null   int64         \n",
            " 24  hits.minute                            4902 non-null   int64         \n",
            " 25  hits.isInteraction                     4902 non-null   bool          \n",
            " 26  hits.isEntrance                        1164 non-null   float64       \n",
            " 27  hits.isExit                            1164 non-null   float64       \n",
            " 28  hits.referer                           1454 non-null   object        \n",
            " 29  hits.page.pagePath                     4902 non-null   object        \n",
            " 30  hits.page.hostname                     4902 non-null   object        \n",
            " 31  hits.page.pageTitle                    4901 non-null   object        \n",
            " 32  hits.page.pagePathLevel1               4902 non-null   object        \n",
            " 33  hits.page.pagePathLevel2               2992 non-null   object        \n",
            " 34  hits.page.pagePathLevel3               2549 non-null   object        \n",
            " 35  hits.page.pagePathLevel4               1274 non-null   object        \n",
            " 36  hits.transaction.transactionId         30 non-null     object        \n",
            " 37  hits.transaction.transactionRevenue    15 non-null     float64       \n",
            " 38  hits.transaction.transactionTax        9 non-null      float64       \n",
            " 39  hits.transaction.transactionShipping   15 non-null     float64       \n",
            " 40  hits.eventInfo.eventCategory           542 non-null    object        \n",
            " 41  hits.eventInfo.eventAction             542 non-null    object        \n",
            " 42  hits.eventInfo.eventLabel              331 non-null    object        \n",
            " 43  hits.eCommerceAction.action_type       4902 non-null   int64         \n",
            " 44  hits.eCommerceAction.step              4902 non-null   int64         \n",
            " 45  hits.eCommerceAction.option            80 non-null     object        \n",
            " 46  hits.type                              4902 non-null   object        \n",
            " 47  hits.latencyTracking.pageLoadSample    61 non-null     float64       \n",
            " 48  hits.latencyTracking.pageLoadTime      61 non-null     float64       \n",
            " 49  hits.latencyTracking.pageDownloadTime  61 non-null     float64       \n",
            " 50  channelGrouping                        4902 non-null   object        \n",
            "dtypes: bool(2), datetime64[ns](1), float64(11), int64(11), object(26)\n",
            "memory usage: 1.9+ MB\n"
          ]
        }
      ]
    },
    {
      "cell_type": "markdown",
      "source": [
        "#2. Which entry page(s) would be a good place to focus on optimizing and why?"
      ],
      "metadata": {
        "id": "-HW7z8v6ZvnJ"
      }
    },
    {
      "cell_type": "code",
      "source": [
        ""
      ],
      "metadata": {
        "id": "Mb8Gk4TbbHUA"
      },
      "execution_count": null,
      "outputs": []
    },
    {
      "cell_type": "markdown",
      "source": [
        "# 3. What is the best way to measure how many transactions were completed and conversion rate, and why?"
      ],
      "metadata": {
        "id": "nv5kN9AVaXUz"
      }
    },
    {
      "cell_type": "code",
      "source": [
        ""
      ],
      "metadata": {
        "id": "zAnLRVpHbH-K"
      },
      "execution_count": null,
      "outputs": []
    },
    {
      "cell_type": "markdown",
      "source": [
        "#4. Which continent has the highest add-to-cart rate on mobile?"
      ],
      "metadata": {
        "id": "PZSI7MaWafSG"
      }
    },
    {
      "cell_type": "code",
      "source": [
        ""
      ],
      "metadata": {
        "id": "xpQGjDi6a7qG"
      },
      "execution_count": null,
      "outputs": []
    },
    {
      "cell_type": "markdown",
      "source": [
        "#5.Given the above business KPIs, please provide 3 suggestions for additional data to be captured in Google Analytics to make this dataset more useful."
      ],
      "metadata": {
        "id": "XdPy1awQav4V"
      }
    },
    {
      "cell_type": "code",
      "source": [
        ""
      ],
      "metadata": {
        "id": "RKh9BD9wbJrO"
      },
      "execution_count": null,
      "outputs": []
    }
  ]
}