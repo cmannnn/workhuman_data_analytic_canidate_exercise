{
  "nbformat": 4,
  "nbformat_minor": 0,
  "metadata": {
    "colab": {
      "name": "workhuman_data_analytic_canidate_exercise.ipynb",
      "provenance": [],
      "collapsed_sections": [
        "cdOlBytk4nzx"
      ],
      "authorship_tag": "ABX9TyMPEx3Ts1p1M4qAlFZ7yRxD",
      "include_colab_link": true
    },
    "kernelspec": {
      "name": "python3",
      "display_name": "Python 3"
    },
    "language_info": {
      "name": "python"
    }
  },
  "cells": [
    {
      "cell_type": "markdown",
      "metadata": {
        "id": "view-in-github",
        "colab_type": "text"
      },
      "source": [
        "<a href=\"https://colab.research.google.com/github/cmannnn/workhuman_data_analytic_canidate_exercise/blob/main/workhuman_data_analytic_canidate_exercise.ipynb\" target=\"_parent\"><img src=\"https://colab.research.google.com/assets/colab-badge.svg\" alt=\"Open In Colab\"/></a>"
      ]
    },
    {
      "cell_type": "markdown",
      "source": [
        "# **Workhuman Data Analytic Canidate Exercise**"
      ],
      "metadata": {
        "id": "j-GERYt6s__n"
      }
    },
    {
      "cell_type": "markdown",
      "source": [
        "\n",
        "# **Key Fields**\n",
        "\n",
        "*   visitId – this is the unique random identifier assigned by Google to each visit\n",
        "*   fullVisitorId – this is the unique random identifier assigned by Google to each distinct user\n",
        "*   hits.type – denotes the category of the hit (pageview, event, transaction, etc)\n",
        "*   hits.page.pagePath – the URL pathname of the page where the hit occurred\n",
        "hits.eventInfo. (columns AQ-AS) – this is the custom taxonomy for non-pageload interactions\n",
        "*   trafficsource. (columns J-N) – these are UTM attributes about the referrer of the visit\n",
        "*   device. (columns O-R) – these are technology attributes about the user\n",
        "geoNetwork. (columns S-V) – these are location attributes about the user\n",
        "\n",
        "\n",
        "\n",
        "\n",
        "\n"
      ],
      "metadata": {
        "id": "hylXj-ZlOKlV"
      }
    },
    {
      "cell_type": "markdown",
      "source": [
        "\n",
        "# **Business KPIs**\n",
        "\n",
        "\n",
        "*   Prospect conversion rate – the percent of first-time visitors with a transaction, excluding any returning customers\n",
        "*   Channel revenue contribution – how much revenue is attributed to each acquisition channel\n",
        "*   Gross margin – the percent of all e-commerce revenue – cost of goods sold out of total revenue\n",
        "\n",
        "\n",
        "\n",
        "\n",
        "\n"
      ],
      "metadata": {
        "id": "ZwBAmjLwOjsO"
      }
    },
    {
      "cell_type": "markdown",
      "source": [
        "\n",
        "# **Business Questions**\n",
        "\n",
        "*   What is the best way to segment Google organic search traffic, and why?\n",
        "*   Which entry page(s) would be a good place to focus on optimizing and why?\n",
        "*   What is the best way to measure how many transactions were completed and conversion rate, and why?\n",
        "*   Which continent has the highest add-to-cart rate on mobile?\n",
        "*   Given the above business KPIs, please provide 3 suggestions for additional data to be captured in Google Analytics to make this dataset more useful."
      ],
      "metadata": {
        "id": "euyegfuAOxpB"
      }
    },
    {
      "cell_type": "markdown",
      "source": [
        "#Imports"
      ],
      "metadata": {
        "id": "cdOlBytk4nzx"
      }
    },
    {
      "cell_type": "code",
      "execution_count": 1,
      "metadata": {
        "colab": {
          "base_uri": "https://localhost:8080/"
        },
        "id": "WH1G-obUL6un",
        "outputId": "727c5415-0a53-4c1f-85ab-bd793809b8b6"
      },
      "outputs": [
        {
          "output_type": "stream",
          "name": "stdout",
          "text": [
            "Mounted at /content/drive\n"
          ]
        }
      ],
      "source": [
        "# mounting google drive\n",
        "from google.colab import drive\n",
        "drive.mount('/content/drive')"
      ]
    },
    {
      "cell_type": "code",
      "source": [
        "#!python '/content/drive/MyDrive/Colabby Krabby Paddy/workhuman_data_analytic_canidate_exercise/setup_py.py' install"
      ],
      "metadata": {
        "id": "cbO05KcFiIVr"
      },
      "execution_count": 2,
      "outputs": []
    },
    {
      "cell_type": "code",
      "source": [
        "# imports\n",
        "!pip install openpyxl==3.0.0\n",
        "!pip install pandas\n",
        "\n",
        "import pandas as pd\n",
        "import matplotlib.pyplot as plt\n",
        "import seaborn as sns\n",
        "sns.set()\n",
        "import numpy as np"
      ],
      "metadata": {
        "id": "ftkZ-zVCMKf6",
        "colab": {
          "base_uri": "https://localhost:8080/"
        },
        "outputId": "858ee27a-b05c-4802-dc49-988105f94345"
      },
      "execution_count": 3,
      "outputs": [
        {
          "output_type": "stream",
          "name": "stdout",
          "text": [
            "Collecting openpyxl==3.0.0\n",
            "  Downloading openpyxl-3.0.0.tar.gz (172 kB)\n",
            "\u001b[?25l\r\u001b[K     |██                              | 10 kB 22.7 MB/s eta 0:00:01\r\u001b[K     |███▉                            | 20 kB 30.7 MB/s eta 0:00:01\r\u001b[K     |█████▊                          | 30 kB 14.0 MB/s eta 0:00:01\r\u001b[K     |███████▋                        | 40 kB 10.5 MB/s eta 0:00:01\r\u001b[K     |█████████▌                      | 51 kB 4.5 MB/s eta 0:00:01\r\u001b[K     |███████████▍                    | 61 kB 4.9 MB/s eta 0:00:01\r\u001b[K     |█████████████▎                  | 71 kB 4.4 MB/s eta 0:00:01\r\u001b[K     |███████████████▏                | 81 kB 5.0 MB/s eta 0:00:01\r\u001b[K     |█████████████████               | 92 kB 4.9 MB/s eta 0:00:01\r\u001b[K     |███████████████████             | 102 kB 4.2 MB/s eta 0:00:01\r\u001b[K     |████████████████████▉           | 112 kB 4.2 MB/s eta 0:00:01\r\u001b[K     |██████████████████████▊         | 122 kB 4.2 MB/s eta 0:00:01\r\u001b[K     |████████████████████████▋       | 133 kB 4.2 MB/s eta 0:00:01\r\u001b[K     |██████████████████████████▌     | 143 kB 4.2 MB/s eta 0:00:01\r\u001b[K     |████████████████████████████▌   | 153 kB 4.2 MB/s eta 0:00:01\r\u001b[K     |██████████████████████████████▍ | 163 kB 4.2 MB/s eta 0:00:01\r\u001b[K     |████████████████████████████████| 172 kB 4.2 MB/s \n",
            "\u001b[?25hRequirement already satisfied: jdcal in /usr/local/lib/python3.7/dist-packages (from openpyxl==3.0.0) (1.4.1)\n",
            "Requirement already satisfied: et_xmlfile in /usr/local/lib/python3.7/dist-packages (from openpyxl==3.0.0) (1.1.0)\n",
            "Building wheels for collected packages: openpyxl\n",
            "  Building wheel for openpyxl (setup.py) ... \u001b[?25l\u001b[?25hdone\n",
            "  Created wheel for openpyxl: filename=openpyxl-3.0.0-py2.py3-none-any.whl size=241207 sha256=992b0ad728fc4d7fd75f6004377e43973af9acfdba5b8d78caa78e229887f653\n",
            "  Stored in directory: /root/.cache/pip/wheels/c7/64/ff/ce98f6e1d2701ae8e216c875da62feed2839ac8a3cae0ab8af\n",
            "Successfully built openpyxl\n",
            "Installing collected packages: openpyxl\n",
            "  Attempting uninstall: openpyxl\n",
            "    Found existing installation: openpyxl 2.5.9\n",
            "    Uninstalling openpyxl-2.5.9:\n",
            "      Successfully uninstalled openpyxl-2.5.9\n",
            "Successfully installed openpyxl-3.0.0\n",
            "Requirement already satisfied: pandas in /usr/local/lib/python3.7/dist-packages (1.3.5)\n",
            "Requirement already satisfied: numpy>=1.17.3 in /usr/local/lib/python3.7/dist-packages (from pandas) (1.19.5)\n",
            "Requirement already satisfied: python-dateutil>=2.7.3 in /usr/local/lib/python3.7/dist-packages (from pandas) (2.8.2)\n",
            "Requirement already satisfied: pytz>=2017.3 in /usr/local/lib/python3.7/dist-packages (from pandas) (2018.9)\n",
            "Requirement already satisfied: six>=1.5 in /usr/local/lib/python3.7/dist-packages (from python-dateutil>=2.7.3->pandas) (1.15.0)\n"
          ]
        }
      ]
    },
    {
      "cell_type": "code",
      "source": [
        "# setting path variable\n",
        "path = '/content/drive/MyDrive/Colabby Krabby Paddy/workhuman_data_analytic_canidate_exercise/da_google_analytics_sample.xlsx'"
      ],
      "metadata": {
        "id": "H1EfAH-yMSeT"
      },
      "execution_count": 4,
      "outputs": []
    },
    {
      "cell_type": "code",
      "source": [
        "# reading in the pathand setting the index column to 'visitId'\n",
        "df = pd.read_excel(path, index_col = 'visitId', engine = 'openpyxl')"
      ],
      "metadata": {
        "id": "JLi8YscxNQFD"
      },
      "execution_count": 5,
      "outputs": []
    },
    {
      "cell_type": "code",
      "source": [
        "# dropping unecesary columns\n",
        "cols_to_drop = ['trafficSource.campaignCode', 'hits.transaction.transactionCoupon', 'hits.eventInfo.eventValue', 'userId']\n",
        "df.drop(cols_to_drop, axis = 1, inplace = True)"
      ],
      "metadata": {
        "id": "YfOj4A9zRgqZ"
      },
      "execution_count": 6,
      "outputs": []
    },
    {
      "cell_type": "code",
      "source": [
        "# changing the date column to datetime\n",
        "df['date'] = pd.to_datetime(df['date'], format = '%Y%m%d')"
      ],
      "metadata": {
        "id": "-crPEW7LTtOi"
      },
      "execution_count": 7,
      "outputs": []
    },
    {
      "cell_type": "code",
      "source": [
        "# changing transaction recenue column to regular price\n",
        "df['hits.transaction.transactionRevenue'] = df['hits.transaction.transactionRevenue'] * .000001"
      ],
      "metadata": {
        "id": "hRyIACkoNwTl"
      },
      "execution_count": 8,
      "outputs": []
    },
    {
      "cell_type": "markdown",
      "source": [
        "# Current"
      ],
      "metadata": {
        "id": "-EBpcdRa_0E_"
      }
    },
    {
      "cell_type": "code",
      "source": [
        "# grouping dataset by visitId to see unique visitors\n",
        "df_grouped = df.groupby(df.index).sum()"
      ],
      "metadata": {
        "id": "VP9LjYn9GSwG"
      },
      "execution_count": 9,
      "outputs": []
    },
    {
      "cell_type": "code",
      "source": [
        "# non unique device browser\n",
        "df['device.browser'].value_counts()"
      ],
      "metadata": {
        "id": "My7GkcCxIX4n",
        "colab": {
          "base_uri": "https://localhost:8080/"
        },
        "outputId": "f0d31698-71fd-47c6-a706-a4160f059d29"
      },
      "execution_count": 10,
      "outputs": [
        {
          "output_type": "execute_result",
          "data": {
            "text/plain": [
              "Chrome                      7590\n",
              "Safari                       950\n",
              "Firefox                      440\n",
              "Edge                         300\n",
              "Internet Explorer            153\n",
              "Android Webview              128\n",
              "Opera Mini                    78\n",
              "Safari (in-app)               47\n",
              "UC Browser                    13\n",
              "Opera                          8\n",
              "YaBrowser                      4\n",
              "Amazon Silk                    3\n",
              "Android Browser                2\n",
              "Coc Coc                        2\n",
              "Nokia Browser                  1\n",
              "Mozilla Compatible Agent       1\n",
              "Name: device.browser, dtype: int64"
            ]
          },
          "metadata": {},
          "execution_count": 10
        }
      ]
    },
    {
      "cell_type": "code",
      "source": [
        "# browser count\n",
        "ax, fig = plt.subplots(figsize = (35,10))\n",
        "ax = sns.barplot(x = df['device.browser'].unique()[:7], y = df['device.browser'].value_counts()[:7] / df['device.browser'].value_counts()[:7].sum())\n",
        "plt.title('Top 7 Browser Count')\n",
        "plt.plot()"
      ],
      "metadata": {
        "id": "ZURuO1WsG5Ik",
        "colab": {
          "base_uri": "https://localhost:8080/",
          "height": 425
        },
        "outputId": "6f14baa5-5776-4362-f6f9-8ba98d6bfee3"
      },
      "execution_count": 11,
      "outputs": [
        {
          "output_type": "execute_result",
          "data": {
            "text/plain": [
              "[]"
            ]
          },
          "metadata": {},
          "execution_count": 11
        },
        {
          "output_type": "display_data",
          "data": {
            "image/png": "[encoded data removed]",
            "text/plain": [
              "<Figure size 2520x720 with 1 Axes>"
            ]
          },
          "metadata": {}
        }
      ]
    },
    {
      "cell_type": "code",
      "source": [
        "# non-unique devices count\n",
        "df['device.deviceCategory'].value_counts()"
      ],
      "metadata": {
        "id": "eojSCec8Z6CK",
        "colab": {
          "base_uri": "https://localhost:8080/"
        },
        "outputId": "a6ec3460-c221-4831-e6cc-d28471b4e0ba"
      },
      "execution_count": 12,
      "outputs": [
        {
          "output_type": "execute_result",
          "data": {
            "text/plain": [
              "desktop    7753\n",
              "mobile     1784\n",
              "tablet      183\n",
              "Name: device.deviceCategory, dtype: int64"
            ]
          },
          "metadata": {},
          "execution_count": 12
        }
      ]
    },
    {
      "cell_type": "code",
      "source": [
        "# device category count\t\n",
        "ax, fig = plt.subplots(figsize = (20,10))\n",
        "sns.barplot(x = df['device.deviceCategory'].unique(), y = df['device.deviceCategory'].value_counts() / df['device.deviceCategory'].value_counts().sum())\n",
        "plt.title('Device Count %')\n",
        "plt.plot()"
      ],
      "metadata": {
        "id": "28YZULyAF_Ur",
        "colab": {
          "base_uri": "https://localhost:8080/",
          "height": 628
        },
        "outputId": "b5260467-c486-48e7-9378-cc29953170a3"
      },
      "execution_count": 13,
      "outputs": [
        {
          "output_type": "execute_result",
          "data": {
            "text/plain": [
              "[]"
            ]
          },
          "metadata": {},
          "execution_count": 13
        },
        {
          "output_type": "display_data",
          "data": {
            "image/png": "[encoded data removed]",
            "text/plain": [
              "<Figure size 1440x720 with 1 Axes>"
            ]
          },
          "metadata": {}
        }
      ]
    },
    {
      "cell_type": "code",
      "source": [
        "# which channel users used to access site\n",
        "df['channelGrouping'].value_counts()"
      ],
      "metadata": {
        "id": "vw4bNeCtAUWZ",
        "colab": {
          "base_uri": "https://localhost:8080/"
        },
        "outputId": "765bbec4-f1a3-4e52-8776-d20066a71739"
      },
      "execution_count": 14,
      "outputs": [
        {
          "output_type": "execute_result",
          "data": {
            "text/plain": [
              "Organic Search    5013\n",
              "Referral          1932\n",
              "Direct            1421\n",
              "Social             938\n",
              "Paid Search        217\n",
              "Affiliates         127\n",
              "Display             72\n",
              "Name: channelGrouping, dtype: int64"
            ]
          },
          "metadata": {},
          "execution_count": 14
        }
      ]
    },
    {
      "cell_type": "code",
      "source": [
        "# counting mobile vs non mobile users\n",
        "df['device.isMobile'].value_counts()"
      ],
      "metadata": {
        "id": "d9ysNrYHSdq0",
        "colab": {
          "base_uri": "https://localhost:8080/"
        },
        "outputId": "6b5754c8-3d40-42fa-89a1-fca09dfb3f48"
      },
      "execution_count": 15,
      "outputs": [
        {
          "output_type": "execute_result",
          "data": {
            "text/plain": [
              "False    7753\n",
              "True     1967\n",
              "Name: device.isMobile, dtype: int64"
            ]
          },
          "metadata": {},
          "execution_count": 15
        }
      ]
    },
    {
      "cell_type": "code",
      "source": [
        "# channel count graph\n",
        "ax, fig = plt.subplots(figsize = (30,10))\n",
        "sns.barplot(df['channelGrouping'].unique(), df['channelGrouping'].value_counts() / df['channelGrouping'].value_counts().sum())\n",
        "plt.title('Channel Count %')\n",
        "plt.plot()"
      ],
      "metadata": {
        "id": "Sq3KK3ExPHFj",
        "colab": {
          "base_uri": "https://localhost:8080/",
          "height": 544
        },
        "outputId": "0b5c64c8-e06f-477c-a3e1-ab53ace7bc7e"
      },
      "execution_count": 16,
      "outputs": [
        {
          "output_type": "stream",
          "name": "stderr",
          "text": [
            "/usr/local/lib/python3.7/dist-packages/seaborn/_decorators.py:43: FutureWarning: Pass the following variables as keyword args: x, y. From version 0.12, the only valid positional argument will be `data`, and passing other arguments without an explicit keyword will result in an error or misinterpretation.\n",
            "  FutureWarning\n"
          ]
        },
        {
          "output_type": "execute_result",
          "data": {
            "text/plain": [
              "[]"
            ]
          },
          "metadata": {},
          "execution_count": 16
        },
        {
          "output_type": "display_data",
          "data": {
            "image/png": "[encoded data removed]",
            "text/plain": [
              "<Figure size 2160x720 with 1 Axes>"
            ]
          },
          "metadata": {}
        }
      ]
    },
    {
      "cell_type": "code",
      "source": [
        ""
      ],
      "metadata": {
        "id": "FS0-TxpzambW"
      },
      "execution_count": 16,
      "outputs": []
    },
    {
      "cell_type": "code",
      "source": [
        "# top 5 browser grouping by device\n",
        "browser_list = ['Chrome', 'Edge', 'Firefox', 'Internet Explorer', 'Safari']\n",
        "browser_top_five = df[df['device.browser'].isin(browser_list)]\n",
        "\n",
        "channel_mobile_group = browser_top_five.groupby(['device.browser', 'device.deviceCategory'])\n",
        "channel_mobile_group_count = channel_mobile_group['device.browser'].count()\n",
        "channel_mobile_group_count.unstack().plot.bar(figsize = (20, 10), title = 'Top 5 Device Broswer by Category Count')"
      ],
      "metadata": {
        "id": "K3_53FTdVcpl",
        "colab": {
          "base_uri": "https://localhost:8080/",
          "height": 729
        },
        "outputId": "36b8461c-b590-43c7-e710-389c7a86d6b3"
      },
      "execution_count": 17,
      "outputs": [
        {
          "output_type": "execute_result",
          "data": {
            "text/plain": [
              "<matplotlib.axes._subplots.AxesSubplot at 0x7f47e6953710>"
            ]
          },
          "metadata": {},
          "execution_count": 17
        },
        {
          "output_type": "display_data",
          "data": {
            "image/png": "[encoded data removed]",
            "text/plain": [
              "<Figure size 1440x720 with 1 Axes>"
            ]
          },
          "metadata": {}
        }
      ]
    },
    {
      "cell_type": "code",
      "source": [
        "# channel grouping by device category\n",
        "device_category_mobile_group = df.groupby(['channelGrouping', 'device.deviceCategory'])\n",
        "device_category_mobile_group_count = device_category_mobile_group['channelGrouping'].count()\n",
        "device_category_mobile_group_count.unstack().plot.bar(figsize = (20, 10), title = 'Channel Grouping by Device')"
      ],
      "metadata": {
        "id": "IBqdtyCdACLz",
        "colab": {
          "base_uri": "https://localhost:8080/",
          "height": 720
        },
        "outputId": "73cd3d3a-d5dc-4e71-df81-fc323ce1abdb"
      },
      "execution_count": 18,
      "outputs": [
        {
          "output_type": "execute_result",
          "data": {
            "text/plain": [
              "<matplotlib.axes._subplots.AxesSubplot at 0x7f47e625eed0>"
            ]
          },
          "metadata": {},
          "execution_count": 18
        },
        {
          "output_type": "display_data",
          "data": {
            "image/png": "[encoded data removed]",
            "text/plain": [
              "<Figure size 1440x720 with 1 Axes>"
            ]
          },
          "metadata": {}
        }
      ]
    },
    {
      "cell_type": "markdown",
      "source": [
        "#1. What is the best way to segment Google organic search traffic, and why?"
      ],
      "metadata": {
        "id": "pbNPG6RQHTcO"
      }
    },
    {
      "cell_type": "code",
      "source": [
        "# count of channels\n",
        "df['channelGrouping'].value_counts()"
      ],
      "metadata": {
        "id": "myIcOusGHW21",
        "colab": {
          "base_uri": "https://localhost:8080/"
        },
        "outputId": "5940aa00-21ba-4303-c83b-8fd8b6a244fb"
      },
      "execution_count": 19,
      "outputs": [
        {
          "output_type": "execute_result",
          "data": {
            "text/plain": [
              "Organic Search    5013\n",
              "Referral          1932\n",
              "Direct            1421\n",
              "Social             938\n",
              "Paid Search        217\n",
              "Affiliates         127\n",
              "Display             72\n",
              "Name: channelGrouping, dtype: int64"
            ]
          },
          "metadata": {},
          "execution_count": 19
        }
      ]
    },
    {
      "cell_type": "code",
      "source": [
        "# count of traffic source\n",
        "df['trafficSource.source'].value_counts()"
      ],
      "metadata": {
        "id": "wyUfj_FsIr_d",
        "colab": {
          "base_uri": "https://localhost:8080/"
        },
        "outputId": "ca5880e6-fcc3-468e-aaaf-e93a46088b67"
      },
      "execution_count": 20,
      "outputs": [
        {
          "output_type": "execute_result",
          "data": {
            "text/plain": [
              "google                     5119\n",
              "(direct)                   2891\n",
              "youtube.com                 623\n",
              "l.facebook.com              230\n",
              "analytics.google.com        170\n",
              "Partners                    127\n",
              "google.com                  111\n",
              "dfa                          72\n",
              "bing                         68\n",
              "mail.google.com              43\n",
              "sites.google.com             36\n",
              "siliconvalley.about.com      35\n",
              "sashihara.jp                 31\n",
              "yahoo                        24\n",
              "m.facebook.com               22\n",
              "reddit.com                   21\n",
              "t.co                         18\n",
              "baidu                        13\n",
              "groups.google.com            10\n",
              "qiita.com                     8\n",
              "facebook.com                  8\n",
              "docs.google.com               8\n",
              "blog.golang.org               7\n",
              "quora.com                     6\n",
              "ask                           6\n",
              "businessinsider.com           5\n",
              "google.nl                     2\n",
              "google.co.jp                  2\n",
              "web.skype.com                 1\n",
              "google.co.uk                  1\n",
              "google.co.th                  1\n",
              "blognone.com                  1\n",
              "Name: trafficSource.source, dtype: int64"
            ]
          },
          "metadata": {},
          "execution_count": 20
        }
      ]
    },
    {
      "cell_type": "code",
      "source": [
        "# google organic search grouped by country \n",
        "# channelgrouping = 'organic search' & traffic source = 'google'\n",
        "google_organic_traffic = df[(df['channelGrouping'] == 'Organic Search') & (df['trafficSource.source'] == 'google')]\n",
        "google_organic_traffic_by_country = google_organic_traffic.groupby(['geoNetwork.ountry']).count()\n",
        "google_organic_traffic_by_country.head()"
      ],
      "metadata": {
        "id": "l3LOEKpMWy7N",
        "colab": {
          "base_uri": "https://localhost:8080/",
          "height": 302
        },
        "outputId": "b67285c3-1c5c-414b-b88a-961210efca99"
      },
      "execution_count": 21,
      "outputs": [
        {
          "output_type": "execute_result",
          "data": {
            "text/html": [
              "\n",
              "  <div id=\"df-f3cd0364-dc45-4cc3-b9b5-0a8af84e3c6d\">\n",
              "    <div class=\"colab-df-container\">\n",
              "      <div>\n",
              "<style scoped>\n",
              "    .dataframe tbody tr th:only-of-type {\n",
              "        vertical-align: middle;\n",
              "    }\n",
              "\n",
              "    .dataframe tbody tr th {\n",
              "        vertical-align: top;\n",
              "    }\n",
              "\n",
              "    .dataframe thead th {\n",
              "        text-align: right;\n",
              "    }\n",
              "</style>\n",
              "<table border=\"1\" class=\"dataframe\">\n",
              "  <thead>\n",
              "    <tr style=\"text-align: right;\">\n",
              "      <th></th>\n",
              "      <th>visitNumber</th>\n",
              "      <th>visitStartTime</th>\n",
              "      <th>date</th>\n",
              "      <th>totals.visits</th>\n",
              "      <th>totals.hits</th>\n",
              "      <th>totals.pageviews</th>\n",
              "      <th>totals.timeOnSite</th>\n",
              "      <th>totals.newVisits</th>\n",
              "      <th>trafficSource.campaign</th>\n",
              "      <th>trafficSource.source</th>\n",
              "      <th>trafficSource.medium</th>\n",
              "      <th>trafficSource.keyword</th>\n",
              "      <th>device.browser</th>\n",
              "      <th>device.operatingSystem</th>\n",
              "      <th>device.isMobile</th>\n",
              "      <th>device.deviceCategory</th>\n",
              "      <th>geoNetwork.continent</th>\n",
              "      <th>geoNetwork.subContinent</th>\n",
              "      <th>geoNetwork.networkDomain</th>\n",
              "      <th>hits.hitNumber</th>\n",
              "      <th>hits.time</th>\n",
              "      <th>hits.hour</th>\n",
              "      <th>hits.minute</th>\n",
              "      <th>hits.isInteraction</th>\n",
              "      <th>hits.isEntrance</th>\n",
              "      <th>hits.isExit</th>\n",
              "      <th>hits.referer</th>\n",
              "      <th>hits.page.pagePath</th>\n",
              "      <th>hits.page.hostname</th>\n",
              "      <th>hits.page.pageTitle</th>\n",
              "      <th>hits.page.pagePathLevel1</th>\n",
              "      <th>hits.page.pagePathLevel2</th>\n",
              "      <th>hits.page.pagePathLevel3</th>\n",
              "      <th>hits.page.pagePathLevel4</th>\n",
              "      <th>hits.transaction.transactionId</th>\n",
              "      <th>hits.transaction.transactionRevenue</th>\n",
              "      <th>hits.transaction.transactionTax</th>\n",
              "      <th>hits.transaction.transactionShipping</th>\n",
              "      <th>hits.eventInfo.eventCategory</th>\n",
              "      <th>hits.eventInfo.eventAction</th>\n",
              "      <th>hits.eventInfo.eventLabel</th>\n",
              "      <th>hits.eCommerceAction.action_type</th>\n",
              "      <th>hits.eCommerceAction.step</th>\n",
              "      <th>hits.eCommerceAction.option</th>\n",
              "      <th>hits.type</th>\n",
              "      <th>hits.latencyTracking.pageLoadSample</th>\n",
              "      <th>hits.latencyTracking.pageLoadTime</th>\n",
              "      <th>hits.latencyTracking.pageDownloadTime</th>\n",
              "      <th>fullVisitorID</th>\n",
              "      <th>channelGrouping</th>\n",
              "    </tr>\n",
              "    <tr>\n",
              "      <th>geoNetwork.ountry</th>\n",
              "      <th></th>\n",
              "      <th></th>\n",
              "      <th></th>\n",
              "      <th></th>\n",
              "      <th></th>\n",
              "      <th></th>\n",
              "      <th></th>\n",
              "      <th></th>\n",
              "      <th></th>\n",
              "      <th></th>\n",
              "      <th></th>\n",
              "      <th></th>\n",
              "      <th></th>\n",
              "      <th></th>\n",
              "      <th></th>\n",
              "      <th></th>\n",
              "      <th></th>\n",
              "      <th></th>\n",
              "      <th></th>\n",
              "      <th></th>\n",
              "      <th></th>\n",
              "      <th></th>\n",
              "      <th></th>\n",
              "      <th></th>\n",
              "      <th></th>\n",
              "      <th></th>\n",
              "      <th></th>\n",
              "      <th></th>\n",
              "      <th></th>\n",
              "      <th></th>\n",
              "      <th></th>\n",
              "      <th></th>\n",
              "      <th></th>\n",
              "      <th></th>\n",
              "      <th></th>\n",
              "      <th></th>\n",
              "      <th></th>\n",
              "      <th></th>\n",
              "      <th></th>\n",
              "      <th></th>\n",
              "      <th></th>\n",
              "      <th></th>\n",
              "      <th></th>\n",
              "      <th></th>\n",
              "      <th></th>\n",
              "      <th></th>\n",
              "      <th></th>\n",
              "      <th></th>\n",
              "      <th></th>\n",
              "      <th></th>\n",
              "    </tr>\n",
              "  </thead>\n",
              "  <tbody>\n",
              "    <tr>\n",
              "      <th>(not set)</th>\n",
              "      <td>9</td>\n",
              "      <td>9</td>\n",
              "      <td>9</td>\n",
              "      <td>9</td>\n",
              "      <td>9</td>\n",
              "      <td>9</td>\n",
              "      <td>7</td>\n",
              "      <td>9</td>\n",
              "      <td>9</td>\n",
              "      <td>9</td>\n",
              "      <td>9</td>\n",
              "      <td>9</td>\n",
              "      <td>9</td>\n",
              "      <td>9</td>\n",
              "      <td>9</td>\n",
              "      <td>9</td>\n",
              "      <td>9</td>\n",
              "      <td>9</td>\n",
              "      <td>9</td>\n",
              "      <td>9</td>\n",
              "      <td>9</td>\n",
              "      <td>9</td>\n",
              "      <td>9</td>\n",
              "      <td>9</td>\n",
              "      <td>3</td>\n",
              "      <td>3</td>\n",
              "      <td>3</td>\n",
              "      <td>9</td>\n",
              "      <td>9</td>\n",
              "      <td>9</td>\n",
              "      <td>9</td>\n",
              "      <td>8</td>\n",
              "      <td>8</td>\n",
              "      <td>4</td>\n",
              "      <td>0</td>\n",
              "      <td>0</td>\n",
              "      <td>0</td>\n",
              "      <td>0</td>\n",
              "      <td>0</td>\n",
              "      <td>0</td>\n",
              "      <td>0</td>\n",
              "      <td>9</td>\n",
              "      <td>9</td>\n",
              "      <td>0</td>\n",
              "      <td>9</td>\n",
              "      <td>0</td>\n",
              "      <td>0</td>\n",
              "      <td>0</td>\n",
              "      <td>9</td>\n",
              "      <td>9</td>\n",
              "    </tr>\n",
              "    <tr>\n",
              "      <th>Albania</th>\n",
              "      <td>2</td>\n",
              "      <td>2</td>\n",
              "      <td>2</td>\n",
              "      <td>2</td>\n",
              "      <td>2</td>\n",
              "      <td>2</td>\n",
              "      <td>2</td>\n",
              "      <td>2</td>\n",
              "      <td>2</td>\n",
              "      <td>2</td>\n",
              "      <td>2</td>\n",
              "      <td>2</td>\n",
              "      <td>2</td>\n",
              "      <td>2</td>\n",
              "      <td>2</td>\n",
              "      <td>2</td>\n",
              "      <td>2</td>\n",
              "      <td>2</td>\n",
              "      <td>2</td>\n",
              "      <td>2</td>\n",
              "      <td>2</td>\n",
              "      <td>2</td>\n",
              "      <td>2</td>\n",
              "      <td>2</td>\n",
              "      <td>1</td>\n",
              "      <td>1</td>\n",
              "      <td>1</td>\n",
              "      <td>2</td>\n",
              "      <td>2</td>\n",
              "      <td>2</td>\n",
              "      <td>2</td>\n",
              "      <td>2</td>\n",
              "      <td>2</td>\n",
              "      <td>0</td>\n",
              "      <td>0</td>\n",
              "      <td>0</td>\n",
              "      <td>0</td>\n",
              "      <td>0</td>\n",
              "      <td>0</td>\n",
              "      <td>0</td>\n",
              "      <td>0</td>\n",
              "      <td>2</td>\n",
              "      <td>2</td>\n",
              "      <td>0</td>\n",
              "      <td>2</td>\n",
              "      <td>0</td>\n",
              "      <td>0</td>\n",
              "      <td>0</td>\n",
              "      <td>2</td>\n",
              "      <td>2</td>\n",
              "    </tr>\n",
              "    <tr>\n",
              "      <th>Argentina</th>\n",
              "      <td>10</td>\n",
              "      <td>10</td>\n",
              "      <td>10</td>\n",
              "      <td>10</td>\n",
              "      <td>10</td>\n",
              "      <td>10</td>\n",
              "      <td>9</td>\n",
              "      <td>9</td>\n",
              "      <td>10</td>\n",
              "      <td>10</td>\n",
              "      <td>10</td>\n",
              "      <td>10</td>\n",
              "      <td>10</td>\n",
              "      <td>10</td>\n",
              "      <td>10</td>\n",
              "      <td>10</td>\n",
              "      <td>10</td>\n",
              "      <td>10</td>\n",
              "      <td>10</td>\n",
              "      <td>10</td>\n",
              "      <td>10</td>\n",
              "      <td>10</td>\n",
              "      <td>10</td>\n",
              "      <td>10</td>\n",
              "      <td>3</td>\n",
              "      <td>3</td>\n",
              "      <td>3</td>\n",
              "      <td>10</td>\n",
              "      <td>10</td>\n",
              "      <td>10</td>\n",
              "      <td>10</td>\n",
              "      <td>3</td>\n",
              "      <td>3</td>\n",
              "      <td>0</td>\n",
              "      <td>0</td>\n",
              "      <td>0</td>\n",
              "      <td>0</td>\n",
              "      <td>0</td>\n",
              "      <td>0</td>\n",
              "      <td>0</td>\n",
              "      <td>0</td>\n",
              "      <td>10</td>\n",
              "      <td>10</td>\n",
              "      <td>0</td>\n",
              "      <td>10</td>\n",
              "      <td>0</td>\n",
              "      <td>0</td>\n",
              "      <td>0</td>\n",
              "      <td>10</td>\n",
              "      <td>10</td>\n",
              "    </tr>\n",
              "    <tr>\n",
              "      <th>Australia</th>\n",
              "      <td>31</td>\n",
              "      <td>31</td>\n",
              "      <td>31</td>\n",
              "      <td>31</td>\n",
              "      <td>31</td>\n",
              "      <td>31</td>\n",
              "      <td>21</td>\n",
              "      <td>15</td>\n",
              "      <td>31</td>\n",
              "      <td>31</td>\n",
              "      <td>31</td>\n",
              "      <td>31</td>\n",
              "      <td>31</td>\n",
              "      <td>31</td>\n",
              "      <td>31</td>\n",
              "      <td>31</td>\n",
              "      <td>31</td>\n",
              "      <td>31</td>\n",
              "      <td>31</td>\n",
              "      <td>31</td>\n",
              "      <td>31</td>\n",
              "      <td>31</td>\n",
              "      <td>31</td>\n",
              "      <td>31</td>\n",
              "      <td>15</td>\n",
              "      <td>15</td>\n",
              "      <td>20</td>\n",
              "      <td>31</td>\n",
              "      <td>31</td>\n",
              "      <td>31</td>\n",
              "      <td>31</td>\n",
              "      <td>11</td>\n",
              "      <td>10</td>\n",
              "      <td>0</td>\n",
              "      <td>0</td>\n",
              "      <td>0</td>\n",
              "      <td>0</td>\n",
              "      <td>0</td>\n",
              "      <td>0</td>\n",
              "      <td>0</td>\n",
              "      <td>0</td>\n",
              "      <td>31</td>\n",
              "      <td>31</td>\n",
              "      <td>0</td>\n",
              "      <td>31</td>\n",
              "      <td>0</td>\n",
              "      <td>0</td>\n",
              "      <td>0</td>\n",
              "      <td>31</td>\n",
              "      <td>31</td>\n",
              "    </tr>\n",
              "    <tr>\n",
              "      <th>Austria</th>\n",
              "      <td>3</td>\n",
              "      <td>3</td>\n",
              "      <td>3</td>\n",
              "      <td>3</td>\n",
              "      <td>3</td>\n",
              "      <td>3</td>\n",
              "      <td>0</td>\n",
              "      <td>3</td>\n",
              "      <td>3</td>\n",
              "      <td>3</td>\n",
              "      <td>3</td>\n",
              "      <td>3</td>\n",
              "      <td>3</td>\n",
              "      <td>3</td>\n",
              "      <td>3</td>\n",
              "      <td>3</td>\n",
              "      <td>3</td>\n",
              "      <td>3</td>\n",
              "      <td>3</td>\n",
              "      <td>3</td>\n",
              "      <td>3</td>\n",
              "      <td>3</td>\n",
              "      <td>3</td>\n",
              "      <td>3</td>\n",
              "      <td>3</td>\n",
              "      <td>3</td>\n",
              "      <td>3</td>\n",
              "      <td>3</td>\n",
              "      <td>3</td>\n",
              "      <td>3</td>\n",
              "      <td>3</td>\n",
              "      <td>0</td>\n",
              "      <td>0</td>\n",
              "      <td>0</td>\n",
              "      <td>0</td>\n",
              "      <td>0</td>\n",
              "      <td>0</td>\n",
              "      <td>0</td>\n",
              "      <td>0</td>\n",
              "      <td>0</td>\n",
              "      <td>0</td>\n",
              "      <td>3</td>\n",
              "      <td>3</td>\n",
              "      <td>0</td>\n",
              "      <td>3</td>\n",
              "      <td>0</td>\n",
              "      <td>0</td>\n",
              "      <td>0</td>\n",
              "      <td>3</td>\n",
              "      <td>3</td>\n",
              "    </tr>\n",
              "  </tbody>\n",
              "</table>\n",
              "</div>\n",
              "      <button class=\"colab-df-convert\" onclick=\"convertToInteractive('df-f3cd0364-dc45-4cc3-b9b5-0a8af84e3c6d')\"\n",
              "              title=\"Convert this dataframe to an interactive table.\"\n",
              "              style=\"display:none;\">\n",
              "        \n",
              "  <svg xmlns=\"http://www.w3.org/2000/svg\" height=\"24px\"viewBox=\"0 0 24 24\"\n",
              "       width=\"24px\">\n",
              "    <path d=\"M0 0h24v24H0V0z\" fill=\"none\"/>\n",
              "    <path d=\"M18.56 5.44l.94 2.06.94-2.06 2.06-.94-2.06-.94-.94-2.06-.94 2.06-2.06.94zm-11 1L8.5 8.5l.94-2.06 2.06-.94-2.06-.94L8.5 2.5l-.94 2.06-2.06.94zm10 10l.94 2.06.94-2.06 2.06-.94-2.06-.94-.94-2.06-.94 2.06-2.06.94z\"/><path d=\"M17.41 7.96l-1.37-1.37c-.4-.4-.92-.59-1.43-.59-.52 0-1.04.2-1.43.59L10.3 9.45l-7.72 7.72c-.78.78-.78 2.05 0 2.83L4 21.41c.39.39.9.59 1.41.59.51 0 1.02-.2 1.41-.59l7.78-7.78 2.81-2.81c.8-.78.8-2.07 0-2.86zM5.41 20L4 18.59l7.72-7.72 1.47 1.35L5.41 20z\"/>\n",
              "  </svg>\n",
              "      </button>\n",
              "      \n",
              "  <style>\n",
              "    .colab-df-container {\n",
              "      display:flex;\n",
              "      flex-wrap:wrap;\n",
              "      gap: 12px;\n",
              "    }\n",
              "\n",
              "    .colab-df-convert {\n",
              "      background-color: #E8F0FE;\n",
              "      border: none;\n",
              "      border-radius: 50%;\n",
              "      cursor: pointer;\n",
              "      display: none;\n",
              "      fill: #1967D2;\n",
              "      height: 32px;\n",
              "      padding: 0 0 0 0;\n",
              "      width: 32px;\n",
              "    }\n",
              "\n",
              "    .colab-df-convert:hover {\n",
              "      background-color: #E2EBFA;\n",
              "      box-shadow: 0px 1px 2px rgba(60, 64, 67, 0.3), 0px 1px 3px 1px rgba(60, 64, 67, 0.15);\n",
              "      fill: #174EA6;\n",
              "    }\n",
              "\n",
              "    [theme=dark] .colab-df-convert {\n",
              "      background-color: #3B4455;\n",
              "      fill: #D2E3FC;\n",
              "    }\n",
              "\n",
              "    [theme=dark] .colab-df-convert:hover {\n",
              "      background-color: #434B5C;\n",
              "      box-shadow: 0px 1px 3px 1px rgba(0, 0, 0, 0.15);\n",
              "      filter: drop-shadow(0px 1px 2px rgba(0, 0, 0, 0.3));\n",
              "      fill: #FFFFFF;\n",
              "    }\n",
              "  </style>\n",
              "\n",
              "      <script>\n",
              "        const buttonEl =\n",
              "          document.querySelector('#df-f3cd0364-dc45-4cc3-b9b5-0a8af84e3c6d button.colab-df-convert');\n",
              "        buttonEl.style.display =\n",
              "          google.colab.kernel.accessAllowed ? 'block' : 'none';\n",
              "\n",
              "        async function convertToInteractive(key) {\n",
              "          const element = document.querySelector('#df-f3cd0364-dc45-4cc3-b9b5-0a8af84e3c6d');\n",
              "          const dataTable =\n",
              "            await google.colab.kernel.invokeFunction('convertToInteractive',\n",
              "                                                     [key], {});\n",
              "          if (!dataTable) return;\n",
              "\n",
              "          const docLinkHtml = 'Like what you see? Visit the ' +\n",
              "            '<a target=\"_blank\" href=https://colab.research.google.com/notebooks/data_table.ipynb>data table notebook</a>'\n",
              "            + ' to learn more about interactive tables.';\n",
              "          element.innerHTML = '';\n",
              "          dataTable['output_type'] = 'display_data';\n",
              "          await google.colab.output.renderOutput(dataTable, element);\n",
              "          const docLink = document.createElement('div');\n",
              "          docLink.innerHTML = docLinkHtml;\n",
              "          element.appendChild(docLink);\n",
              "        }\n",
              "      </script>\n",
              "    </div>\n",
              "  </div>\n",
              "  "
            ],
            "text/plain": [
              "                   visitNumber  visitStartTime  ...  fullVisitorID  channelGrouping\n",
              "geoNetwork.ountry                               ...                                \n",
              "(not set)                    9               9  ...              9                9\n",
              "Albania                      2               2  ...              2                2\n",
              "Argentina                   10              10  ...             10               10\n",
              "Australia                   31              31  ...             31               31\n",
              "Austria                      3               3  ...              3                3\n",
              "\n",
              "[5 rows x 50 columns]"
            ]
          },
          "metadata": {},
          "execution_count": 21
        }
      ]
    },
    {
      "cell_type": "markdown",
      "source": [
        "The best way to segment the Google organic search traffic is by country. Segmenting by country allows for the most specific geographic targeting from the available data. SEO must be adapted for different countries due to the difference in language, culture, religion, region, etc. Geographic considerations must be taken into account when optimizing SEO.  \n",
        "\n",
        "Country specific segmentation can also uncover the origin of hits, visits, and/or pageviews that can be focused on in an upcoming campaign, for example."
      ],
      "metadata": {
        "id": "eXlhPjDkuuRq"
      }
    },
    {
      "cell_type": "markdown",
      "source": [
        "#2. Which entry page(s) would be a good place to focus on optimizing and why?"
      ],
      "metadata": {
        "id": "-HW7z8v6ZvnJ"
      }
    },
    {
      "cell_type": "code",
      "source": [
        "# many different entry pages containing 'google'\n",
        "# could join to see total 'google' hits\n",
        "df['trafficSource.source'][df['trafficSource.source'].str.contains('google')].value_counts()"
      ],
      "metadata": {
        "id": "tCGqWEkvuRaU",
        "colab": {
          "base_uri": "https://localhost:8080/"
        },
        "outputId": "4e0ab7a7-d1a6-45a9-a6cd-476c8d9a9690"
      },
      "execution_count": 22,
      "outputs": [
        {
          "output_type": "execute_result",
          "data": {
            "text/plain": [
              "google                  5119\n",
              "analytics.google.com     170\n",
              "google.com               111\n",
              "mail.google.com           43\n",
              "sites.google.com          36\n",
              "groups.google.com         10\n",
              "docs.google.com            8\n",
              "google.co.jp               2\n",
              "google.nl                  2\n",
              "google.co.th               1\n",
              "google.co.uk               1\n",
              "Name: trafficSource.source, dtype: int64"
            ]
          },
          "metadata": {},
          "execution_count": 22
        }
      ]
    },
    {
      "cell_type": "code",
      "source": [
        "# top 7 traffic sources\n",
        "df['trafficSource.source'].value_counts().iloc[:7]"
      ],
      "metadata": {
        "id": "WdIeVXBzMLMq",
        "colab": {
          "base_uri": "https://localhost:8080/"
        },
        "outputId": "8bc7ffce-2704-4fc6-f53a-03c782316f9d"
      },
      "execution_count": 23,
      "outputs": [
        {
          "output_type": "execute_result",
          "data": {
            "text/plain": [
              "google                  5119\n",
              "(direct)                2891\n",
              "youtube.com              623\n",
              "l.facebook.com           230\n",
              "analytics.google.com     170\n",
              "Partners                 127\n",
              "google.com               111\n",
              "Name: trafficSource.source, dtype: int64"
            ]
          },
          "metadata": {},
          "execution_count": 23
        }
      ]
    },
    {
      "cell_type": "code",
      "source": [
        "# percentage of top 7 traffic sources\n",
        "df['trafficSource.source'].value_counts().iloc[:7] / df['trafficSource.source'].value_counts().iloc[:7].sum() * 100"
      ],
      "metadata": {
        "id": "p77Noa3fN_az",
        "colab": {
          "base_uri": "https://localhost:8080/"
        },
        "outputId": "4d49832d-fa8d-400f-8791-37f44dacbd68"
      },
      "execution_count": 24,
      "outputs": [
        {
          "output_type": "execute_result",
          "data": {
            "text/plain": [
              "google                  55.215187\n",
              "(direct)                31.183260\n",
              "youtube.com              6.719879\n",
              "l.facebook.com           2.480854\n",
              "analytics.google.com     1.833675\n",
              "Partners                 1.369863\n",
              "google.com               1.197282\n",
              "Name: trafficSource.source, dtype: float64"
            ]
          },
          "metadata": {},
          "execution_count": 24
        }
      ]
    },
    {
      "cell_type": "code",
      "source": [
        "# top 7 traffic source count \n",
        "ax, fig = plt.subplots(figsize = (30,10))\n",
        "sns.barplot(x = df['trafficSource.source'].unique()[:7], y = df['trafficSource.source'].value_counts().iloc[:7] / df['trafficSource.source'].value_counts().iloc[:7].sum())\n",
        "plt.title('Top 7 Traffic Source Count %')\n",
        "plt.plot()"
      ],
      "metadata": {
        "id": "8WWxjXq4EsPu",
        "colab": {
          "base_uri": "https://localhost:8080/",
          "height": 488
        },
        "outputId": "dc3ed152-c055-4b5e-e3c2-c3ea362009db"
      },
      "execution_count": 25,
      "outputs": [
        {
          "output_type": "execute_result",
          "data": {
            "text/plain": [
              "[]"
            ]
          },
          "metadata": {},
          "execution_count": 25
        },
        {
          "output_type": "display_data",
          "data": {
            "image/png": "[encoded data removed]",
            "text/plain": [
              "<Figure size 2160x720 with 1 Axes>"
            ]
          },
          "metadata": {}
        }
      ]
    },
    {
      "cell_type": "markdown",
      "source": [
        "The most important entry pages to optimize would be the top 7 'sources' of where the users are coming from. I used this information found in the **['trafficSource.source']** column. The ['trafficSource.source'] column is the name of the search engine, the hostname, or the utm_source (advertiser, site, publication, etc) where traffic is coming from. These are non-unique users.\n",
        "\n",
        "From the table or graph, you can see that Google is an extremely important source of traffic which accounts for the majority and more than 55% of all traffic. Optimizing Google search tearms for this website is vital. \n",
        "\n",
        "Users coming directly to the site is also very important to consider, where more than 31%. This indicates that many people know or are familiar with this site. There is a large dropoff after the top two entry pages. The remaining five entry pages account for about 13.58% of non-unique traffic. These five are important to optimize, but shouldn't take presedence over Google or direct search optimizing strategies. "
      ],
      "metadata": {
        "id": "aACuGZBIMVsj"
      }
    },
    {
      "cell_type": "markdown",
      "source": [
        "# 3. What is the best way to measure how many transactions were completed and conversion rate, and why?"
      ],
      "metadata": {
        "id": "nv5kN9AVaXUz"
      }
    },
    {
      "cell_type": "code",
      "source": [
        "# filtering to where there is revenue recorded\n",
        "df[df['hits.transaction.transactionRevenue'].notnull()].head(2)"
      ],
      "metadata": {
        "id": "EHpAIyqmpkuU",
        "colab": {
          "base_uri": "https://localhost:8080/",
          "height": 242
        },
        "outputId": "ed412581-f55b-49c3-ba02-eadcc6e8c109"
      },
      "execution_count": 26,
      "outputs": [
        {
          "output_type": "execute_result",
          "data": {
            "text/html": [
              "\n",
              "  <div id=\"df-57b52687-acd8-4422-a8b4-5981e904e0a2\">\n",
              "    <div class=\"colab-df-container\">\n",
              "      <div>\n",
              "<style scoped>\n",
              "    .dataframe tbody tr th:only-of-type {\n",
              "        vertical-align: middle;\n",
              "    }\n",
              "\n",
              "    .dataframe tbody tr th {\n",
              "        vertical-align: top;\n",
              "    }\n",
              "\n",
              "    .dataframe thead th {\n",
              "        text-align: right;\n",
              "    }\n",
              "</style>\n",
              "<table border=\"1\" class=\"dataframe\">\n",
              "  <thead>\n",
              "    <tr style=\"text-align: right;\">\n",
              "      <th></th>\n",
              "      <th>visitNumber</th>\n",
              "      <th>visitStartTime</th>\n",
              "      <th>date</th>\n",
              "      <th>totals.visits</th>\n",
              "      <th>totals.hits</th>\n",
              "      <th>totals.pageviews</th>\n",
              "      <th>totals.timeOnSite</th>\n",
              "      <th>totals.newVisits</th>\n",
              "      <th>trafficSource.campaign</th>\n",
              "      <th>trafficSource.source</th>\n",
              "      <th>trafficSource.medium</th>\n",
              "      <th>trafficSource.keyword</th>\n",
              "      <th>device.browser</th>\n",
              "      <th>device.operatingSystem</th>\n",
              "      <th>device.isMobile</th>\n",
              "      <th>device.deviceCategory</th>\n",
              "      <th>geoNetwork.continent</th>\n",
              "      <th>geoNetwork.subContinent</th>\n",
              "      <th>geoNetwork.ountry</th>\n",
              "      <th>geoNetwork.networkDomain</th>\n",
              "      <th>hits.hitNumber</th>\n",
              "      <th>hits.time</th>\n",
              "      <th>hits.hour</th>\n",
              "      <th>hits.minute</th>\n",
              "      <th>hits.isInteraction</th>\n",
              "      <th>hits.isEntrance</th>\n",
              "      <th>hits.isExit</th>\n",
              "      <th>hits.referer</th>\n",
              "      <th>hits.page.pagePath</th>\n",
              "      <th>hits.page.hostname</th>\n",
              "      <th>hits.page.pageTitle</th>\n",
              "      <th>hits.page.pagePathLevel1</th>\n",
              "      <th>hits.page.pagePathLevel2</th>\n",
              "      <th>hits.page.pagePathLevel3</th>\n",
              "      <th>hits.page.pagePathLevel4</th>\n",
              "      <th>hits.transaction.transactionId</th>\n",
              "      <th>hits.transaction.transactionRevenue</th>\n",
              "      <th>hits.transaction.transactionTax</th>\n",
              "      <th>hits.transaction.transactionShipping</th>\n",
              "      <th>hits.eventInfo.eventCategory</th>\n",
              "      <th>hits.eventInfo.eventAction</th>\n",
              "      <th>hits.eventInfo.eventLabel</th>\n",
              "      <th>hits.eCommerceAction.action_type</th>\n",
              "      <th>hits.eCommerceAction.step</th>\n",
              "      <th>hits.eCommerceAction.option</th>\n",
              "      <th>hits.type</th>\n",
              "      <th>hits.latencyTracking.pageLoadSample</th>\n",
              "      <th>hits.latencyTracking.pageLoadTime</th>\n",
              "      <th>hits.latencyTracking.pageDownloadTime</th>\n",
              "      <th>fullVisitorID</th>\n",
              "      <th>channelGrouping</th>\n",
              "    </tr>\n",
              "    <tr>\n",
              "      <th>visitId</th>\n",
              "      <th></th>\n",
              "      <th></th>\n",
              "      <th></th>\n",
              "      <th></th>\n",
              "      <th></th>\n",
              "      <th></th>\n",
              "      <th></th>\n",
              "      <th></th>\n",
              "      <th></th>\n",
              "      <th></th>\n",
              "      <th></th>\n",
              "      <th></th>\n",
              "      <th></th>\n",
              "      <th></th>\n",
              "      <th></th>\n",
              "      <th></th>\n",
              "      <th></th>\n",
              "      <th></th>\n",
              "      <th></th>\n",
              "      <th></th>\n",
              "      <th></th>\n",
              "      <th></th>\n",
              "      <th></th>\n",
              "      <th></th>\n",
              "      <th></th>\n",
              "      <th></th>\n",
              "      <th></th>\n",
              "      <th></th>\n",
              "      <th></th>\n",
              "      <th></th>\n",
              "      <th></th>\n",
              "      <th></th>\n",
              "      <th></th>\n",
              "      <th></th>\n",
              "      <th></th>\n",
              "      <th></th>\n",
              "      <th></th>\n",
              "      <th></th>\n",
              "      <th></th>\n",
              "      <th></th>\n",
              "      <th></th>\n",
              "      <th></th>\n",
              "      <th></th>\n",
              "      <th></th>\n",
              "      <th></th>\n",
              "      <th></th>\n",
              "      <th></th>\n",
              "      <th></th>\n",
              "      <th></th>\n",
              "      <th></th>\n",
              "      <th></th>\n",
              "    </tr>\n",
              "  </thead>\n",
              "  <tbody>\n",
              "    <tr>\n",
              "      <th>1489477049</th>\n",
              "      <td>4</td>\n",
              "      <td>1489477049</td>\n",
              "      <td>2017-03-14</td>\n",
              "      <td>1</td>\n",
              "      <td>9</td>\n",
              "      <td>9.0</td>\n",
              "      <td>156.0</td>\n",
              "      <td>NaN</td>\n",
              "      <td>(not set)</td>\n",
              "      <td>google</td>\n",
              "      <td>organic</td>\n",
              "      <td>(not provided)</td>\n",
              "      <td>Safari</td>\n",
              "      <td>iOS</td>\n",
              "      <td>True</td>\n",
              "      <td>mobile</td>\n",
              "      <td>Americas</td>\n",
              "      <td>Northern America</td>\n",
              "      <td>United States</td>\n",
              "      <td>(not set)</td>\n",
              "      <td>8</td>\n",
              "      <td>156434</td>\n",
              "      <td>0</td>\n",
              "      <td>40</td>\n",
              "      <td>True</td>\n",
              "      <td>NaN</td>\n",
              "      <td>NaN</td>\n",
              "      <td>NaN</td>\n",
              "      <td>/ordercompleted.html</td>\n",
              "      <td>shop.googlemerchandisestore.com</td>\n",
              "      <td>Checkout Confirmation</td>\n",
              "      <td>/ordercompleted.html</td>\n",
              "      <td>NaN</td>\n",
              "      <td>NaN</td>\n",
              "      <td>NaN</td>\n",
              "      <td>ORD201703141827</td>\n",
              "      <td>23.99</td>\n",
              "      <td>7340000.0</td>\n",
              "      <td>23360000.0</td>\n",
              "      <td>NaN</td>\n",
              "      <td>NaN</td>\n",
              "      <td>NaN</td>\n",
              "      <td>6</td>\n",
              "      <td>1</td>\n",
              "      <td>NaN</td>\n",
              "      <td>PAGE</td>\n",
              "      <td>NaN</td>\n",
              "      <td>NaN</td>\n",
              "      <td>NaN</td>\n",
              "      <td>7.328090e+18</td>\n",
              "      <td>Organic Search</td>\n",
              "    </tr>\n",
              "    <tr>\n",
              "      <th>1489529549</th>\n",
              "      <td>3</td>\n",
              "      <td>1489529549</td>\n",
              "      <td>2017-03-14</td>\n",
              "      <td>1</td>\n",
              "      <td>13</td>\n",
              "      <td>12.0</td>\n",
              "      <td>176.0</td>\n",
              "      <td>NaN</td>\n",
              "      <td>(not set)</td>\n",
              "      <td>(direct)</td>\n",
              "      <td>(none)</td>\n",
              "      <td>NaN</td>\n",
              "      <td>Chrome</td>\n",
              "      <td>Windows</td>\n",
              "      <td>False</td>\n",
              "      <td>desktop</td>\n",
              "      <td>Americas</td>\n",
              "      <td>Northern America</td>\n",
              "      <td>United States</td>\n",
              "      <td>(not set)</td>\n",
              "      <td>12</td>\n",
              "      <td>176132</td>\n",
              "      <td>15</td>\n",
              "      <td>15</td>\n",
              "      <td>True</td>\n",
              "      <td>NaN</td>\n",
              "      <td>NaN</td>\n",
              "      <td>NaN</td>\n",
              "      <td>/ordercompleted.html</td>\n",
              "      <td>shop.googlemerchandisestore.com</td>\n",
              "      <td>Checkout Confirmation</td>\n",
              "      <td>/ordercompleted.html</td>\n",
              "      <td>NaN</td>\n",
              "      <td>NaN</td>\n",
              "      <td>NaN</td>\n",
              "      <td>ORD201703141957</td>\n",
              "      <td>20.99</td>\n",
              "      <td>6920000.0</td>\n",
              "      <td>11500000.0</td>\n",
              "      <td>NaN</td>\n",
              "      <td>NaN</td>\n",
              "      <td>NaN</td>\n",
              "      <td>6</td>\n",
              "      <td>1</td>\n",
              "      <td>NaN</td>\n",
              "      <td>PAGE</td>\n",
              "      <td>NaN</td>\n",
              "      <td>NaN</td>\n",
              "      <td>NaN</td>\n",
              "      <td>3.041140e+18</td>\n",
              "      <td>Referral</td>\n",
              "    </tr>\n",
              "  </tbody>\n",
              "</table>\n",
              "</div>\n",
              "      <button class=\"colab-df-convert\" onclick=\"convertToInteractive('df-57b52687-acd8-4422-a8b4-5981e904e0a2')\"\n",
              "              title=\"Convert this dataframe to an interactive table.\"\n",
              "              style=\"display:none;\">\n",
              "        \n",
              "  <svg xmlns=\"http://www.w3.org/2000/svg\" height=\"24px\"viewBox=\"0 0 24 24\"\n",
              "       width=\"24px\">\n",
              "    <path d=\"M0 0h24v24H0V0z\" fill=\"none\"/>\n",
              "    <path d=\"M18.56 5.44l.94 2.06.94-2.06 2.06-.94-2.06-.94-.94-2.06-.94 2.06-2.06.94zm-11 1L8.5 8.5l.94-2.06 2.06-.94-2.06-.94L8.5 2.5l-.94 2.06-2.06.94zm10 10l.94 2.06.94-2.06 2.06-.94-2.06-.94-.94-2.06-.94 2.06-2.06.94z\"/><path d=\"M17.41 7.96l-1.37-1.37c-.4-.4-.92-.59-1.43-.59-.52 0-1.04.2-1.43.59L10.3 9.45l-7.72 7.72c-.78.78-.78 2.05 0 2.83L4 21.41c.39.39.9.59 1.41.59.51 0 1.02-.2 1.41-.59l7.78-7.78 2.81-2.81c.8-.78.8-2.07 0-2.86zM5.41 20L4 18.59l7.72-7.72 1.47 1.35L5.41 20z\"/>\n",
              "  </svg>\n",
              "      </button>\n",
              "      \n",
              "  <style>\n",
              "    .colab-df-container {\n",
              "      display:flex;\n",
              "      flex-wrap:wrap;\n",
              "      gap: 12px;\n",
              "    }\n",
              "\n",
              "    .colab-df-convert {\n",
              "      background-color: #E8F0FE;\n",
              "      border: none;\n",
              "      border-radius: 50%;\n",
              "      cursor: pointer;\n",
              "      display: none;\n",
              "      fill: #1967D2;\n",
              "      height: 32px;\n",
              "      padding: 0 0 0 0;\n",
              "      width: 32px;\n",
              "    }\n",
              "\n",
              "    .colab-df-convert:hover {\n",
              "      background-color: #E2EBFA;\n",
              "      box-shadow: 0px 1px 2px rgba(60, 64, 67, 0.3), 0px 1px 3px 1px rgba(60, 64, 67, 0.15);\n",
              "      fill: #174EA6;\n",
              "    }\n",
              "\n",
              "    [theme=dark] .colab-df-convert {\n",
              "      background-color: #3B4455;\n",
              "      fill: #D2E3FC;\n",
              "    }\n",
              "\n",
              "    [theme=dark] .colab-df-convert:hover {\n",
              "      background-color: #434B5C;\n",
              "      box-shadow: 0px 1px 3px 1px rgba(0, 0, 0, 0.15);\n",
              "      filter: drop-shadow(0px 1px 2px rgba(0, 0, 0, 0.3));\n",
              "      fill: #FFFFFF;\n",
              "    }\n",
              "  </style>\n",
              "\n",
              "      <script>\n",
              "        const buttonEl =\n",
              "          document.querySelector('#df-57b52687-acd8-4422-a8b4-5981e904e0a2 button.colab-df-convert');\n",
              "        buttonEl.style.display =\n",
              "          google.colab.kernel.accessAllowed ? 'block' : 'none';\n",
              "\n",
              "        async function convertToInteractive(key) {\n",
              "          const element = document.querySelector('#df-57b52687-acd8-4422-a8b4-5981e904e0a2');\n",
              "          const dataTable =\n",
              "            await google.colab.kernel.invokeFunction('convertToInteractive',\n",
              "                                                     [key], {});\n",
              "          if (!dataTable) return;\n",
              "\n",
              "          const docLinkHtml = 'Like what you see? Visit the ' +\n",
              "            '<a target=\"_blank\" href=https://colab.research.google.com/notebooks/data_table.ipynb>data table notebook</a>'\n",
              "            + ' to learn more about interactive tables.';\n",
              "          element.innerHTML = '';\n",
              "          dataTable['output_type'] = 'display_data';\n",
              "          await google.colab.output.renderOutput(dataTable, element);\n",
              "          const docLink = document.createElement('div');\n",
              "          docLink.innerHTML = docLinkHtml;\n",
              "          element.appendChild(docLink);\n",
              "        }\n",
              "      </script>\n",
              "    </div>\n",
              "  </div>\n",
              "  "
            ],
            "text/plain": [
              "            visitNumber  visitStartTime  ... fullVisitorID  channelGrouping\n",
              "visitId                                  ...                               \n",
              "1489477049            4      1489477049  ...  7.328090e+18   Organic Search\n",
              "1489529549            3      1489529549  ...  3.041140e+18         Referral\n",
              "\n",
              "[2 rows x 51 columns]"
            ]
          },
          "metadata": {},
          "execution_count": 26
        }
      ]
    },
    {
      "cell_type": "code",
      "source": [
        "# transactions where revenue was recorded\n",
        "transaction_count = df['hits.transaction.transactionRevenue'].count()\n",
        "print(f'There were {transaction_count} recorded transactions on March 14, 2017')"
      ],
      "metadata": {
        "id": "PKGkk2y6cUTR",
        "colab": {
          "base_uri": "https://localhost:8080/"
        },
        "outputId": "641fa4c9-f6b7-4e70-a8bf-212db090c1ea"
      },
      "execution_count": 27,
      "outputs": [
        {
          "output_type": "stream",
          "name": "stdout",
          "text": [
            "There were 40 recorded transactions on March 14, 2017\n"
          ]
        }
      ]
    },
    {
      "cell_type": "code",
      "source": [
        "# df_grouped['hits.transaction.transactionRevenue'].count()\n",
        "df_grouped['hits.isExit'][df_grouped['hits.transaction.transactionRevenue'] != 0].count()"
      ],
      "metadata": {
        "colab": {
          "base_uri": "https://localhost:8080/"
        },
        "id": "iZLo78rcfkDM",
        "outputId": "dbacf4ab-2556-4d9c-c9ab-bbebca9dd02d"
      },
      "execution_count": 28,
      "outputs": [
        {
          "output_type": "execute_result",
          "data": {
            "text/plain": [
              "32"
            ]
          },
          "metadata": {},
          "execution_count": 28
        }
      ]
    },
    {
      "cell_type": "code",
      "source": [
        "# conversion rate calculation\n",
        "# sale conversions / # of total interactions\n",
        "conversion_rate = df['hits.transaction.transactionRevenue'].count() / df['hits.transaction.transactionRevenue'].notnull().count() * 100\n",
        "conversion_rate_unique = df_grouped['hits.isExit'][df_grouped['hits.transaction.transactionRevenue'] != 0].count() / df_grouped['hits.transaction.transactionRevenue'].count() * 100\n",
        "print(f'The non-unique conversion rate on March 14, 2017 was: {conversion_rate}')\n",
        "print(f'The unique conversion rate on March 14, 2017 was: {conversion_rate_unique}') "
      ],
      "metadata": {
        "id": "mhCiw26hOTTB",
        "colab": {
          "base_uri": "https://localhost:8080/"
        },
        "outputId": "fd016bb7-1a6e-4933-9e59-12a9dc06fe14"
      },
      "execution_count": 29,
      "outputs": [
        {
          "output_type": "stream",
          "name": "stdout",
          "text": [
            "The non-unique conversion rate on March 14, 2017 was: 0.411522633744856\n",
            "The unique conversion rate on March 14, 2017 was: 1.3900955690703736\n"
          ]
        }
      ]
    },
    {
      "cell_type": "markdown",
      "source": [
        "The best way to measure how many transactions were completed is to count the number of unique/non-unique transactions in the ['hits.transaction.transactionId] column. If you wanted to calculate the unique number of transactions, that can also be calculated by grouping the dataset on the ['visitId'] column so that users that for example, buy three items are only counted once."
      ],
      "metadata": {
        "id": "XJ7RNY7Vpl7L"
      }
    },
    {
      "cell_type": "markdown",
      "source": [
        "#4. Which continent has the highest add-to-cart rate on mobile?"
      ],
      "metadata": {
        "id": "PZSI7MaWafSG"
      }
    },
    {
      "cell_type": "code",
      "source": [
        "df['geoNetwork.continent'].head()"
      ],
      "metadata": {
        "colab": {
          "base_uri": "https://localhost:8080/"
        },
        "id": "xpQGjDi6a7qG",
        "outputId": "1725b75f-456a-4813-8ef2-09fe5bfc3996"
      },
      "execution_count": 30,
      "outputs": [
        {
          "output_type": "execute_result",
          "data": {
            "text/plain": [
              "visitId\n",
              "1489544305     Oceania\n",
              "1489496466      Europe\n",
              "1489517319        Asia\n",
              "1489477788    Americas\n",
              "1489485767      Europe\n",
              "Name: geoNetwork.continent, dtype: object"
            ]
          },
          "metadata": {},
          "execution_count": 30
        }
      ]
    },
    {
      "cell_type": "code",
      "source": [
        "mobile_item = df[df['device.deviceCategory'] == 'mobile']['device.isMobile'].count()"
      ],
      "metadata": {
        "id": "oV6P4t7zEzp3"
      },
      "execution_count": 47,
      "outputs": []
    },
    {
      "cell_type": "code",
      "source": [
        "mobile_item"
      ],
      "metadata": {
        "colab": {
          "base_uri": "https://localhost:8080/"
        },
        "id": "MUdBtedaFAks",
        "outputId": "30f16119-6069-43fb-af58-c298358fd6c9"
      },
      "execution_count": 48,
      "outputs": [
        {
          "output_type": "execute_result",
          "data": {
            "text/plain": [
              "1784"
            ]
          },
          "metadata": {},
          "execution_count": 48
        }
      ]
    },
    {
      "cell_type": "code",
      "source": [
        "mobile_item_added_to_cart = df[(df['device.deviceCategory'] == 'mobile') & (df['hits.eventInfo.eventAction'] == 'Add to Cart')]['device.isMobile'].count()\n",
        "#['device.isMobile'].count()"
      ],
      "metadata": {
        "id": "nQK0W_CsCUhj"
      },
      "execution_count": 68,
      "outputs": []
    },
    {
      "cell_type": "code",
      "source": [
        "mobile_item_added_to_cart"
      ],
      "metadata": {
        "colab": {
          "base_uri": "https://localhost:8080/"
        },
        "id": "hhig4ZFIFi8j",
        "outputId": "bc8e31bb-870e-4936-845d-c923302d96db"
      },
      "execution_count": 69,
      "outputs": [
        {
          "output_type": "execute_result",
          "data": {
            "text/plain": [
              "17"
            ]
          },
          "metadata": {},
          "execution_count": 69
        }
      ]
    },
    {
      "cell_type": "code",
      "source": [
        "# total # of session where someone adds an item / total number of sessions\n",
        "# assume still counting for mobile only\n",
        "add_to_cart_total = mobile_item_added_to_cart / mobile_item * 100\n",
        "print('The total add to cart calculation is:  %.3f' % add_to_cart_total)"
      ],
      "metadata": {
        "id": "aq8juxbXjXlD",
        "colab": {
          "base_uri": "https://localhost:8080/"
        },
        "outputId": "86694b86-0753-419f-ab73-d4596035e6a7"
      },
      "execution_count": 78,
      "outputs": [
        {
          "output_type": "stream",
          "name": "stdout",
          "text": [
            "The total add to cart calculation is:  0.953\n"
          ]
        }
      ]
    },
    {
      "cell_type": "code",
      "source": [
        "continent_add_to_cart = mobile_item_added_to_cart.groupby(['geoNetwork.continent'])['totals.visits'].sum()"
      ],
      "metadata": {
        "id": "OSrbSqBDBphv"
      },
      "execution_count": 58,
      "outputs": []
    },
    {
      "cell_type": "code",
      "source": [
        "continent_add_to_cart"
      ],
      "metadata": {
        "colab": {
          "base_uri": "https://localhost:8080/"
        },
        "id": "ZttajfZyI1K4",
        "outputId": "f5e8177c-7d08-471f-f11b-b3ff21dae74d"
      },
      "execution_count": 64,
      "outputs": [
        {
          "output_type": "execute_result",
          "data": {
            "text/plain": [
              "geoNetwork.continent\n",
              "Africa       1\n",
              "Americas    11\n",
              "Asia         5\n",
              "Name: totals.visits, dtype: int64"
            ]
          },
          "metadata": {},
          "execution_count": 64
        }
      ]
    },
    {
      "cell_type": "code",
      "source": [
        "(continent_add_to_cart[0] / mobile_item) * 100"
      ],
      "metadata": {
        "colab": {
          "base_uri": "https://localhost:8080/"
        },
        "id": "O4HhQM6GKyU7",
        "outputId": "905a1e53-cc76-449c-d1dd-d1032d76a4b1"
      },
      "execution_count": 81,
      "outputs": [
        {
          "output_type": "execute_result",
          "data": {
            "text/plain": [
              "0.05605381165919283"
            ]
          },
          "metadata": {},
          "execution_count": 81
        }
      ]
    },
    {
      "cell_type": "code",
      "source": [
        "# conversion rate by country\n",
        "# assume still counting for mobile only\n",
        "print('The African mobile only conversion rate is: %.3f' % (continent_add_to_cart[0] / mobile_item * 100)) # Africa\n",
        "print('The Americas mobile only conversion rate is: %.3f' %  (continent_add_to_cart[1] / mobile_item * 100)) # Americas\n",
        "print('The Asia mobile only conversion rate is: %.3f' % (continent_add_to_cart[2] / mobile_item * 100)) # Asia"
      ],
      "metadata": {
        "colab": {
          "base_uri": "https://localhost:8080/"
        },
        "id": "mS88kd_RIC3o",
        "outputId": "571e12fe-38d4-4363-ff70-c29c5efb5721"
      },
      "execution_count": 83,
      "outputs": [
        {
          "output_type": "stream",
          "name": "stdout",
          "text": [
            "The African mobile only conversion rate is: 0.056\n",
            "The Americas mobile only conversion rate is: 0.617\n",
            "The Asia mobile only conversion rate is: 0.280\n"
          ]
        }
      ]
    },
    {
      "cell_type": "markdown",
      "source": [
        "#5.Given the above business KPIs, please provide 3 suggestions for additional data to be captured in Google Analytics to make this dataset more useful."
      ],
      "metadata": {
        "id": "XdPy1awQav4V"
      }
    },
    {
      "cell_type": "markdown",
      "source": [
        "*   Prospect conversion rate – the percent of first-time visitors with a transaction, excluding any returning customers\n",
        "*   Channel revenue contribution – how much revenue is attributed to each acquisition channel\n",
        "*   Gross margin – the percent of all e-commerce revenue – cost of goods sold out of total revenue\n",
        "\n"
      ],
      "metadata": {
        "id": "xza3HLPIdCjT"
      }
    },
    {
      "cell_type": "markdown",
      "source": [
        ""
      ],
      "metadata": {
        "id": "7BMG3cURc_8f"
      }
    }
  ]
}